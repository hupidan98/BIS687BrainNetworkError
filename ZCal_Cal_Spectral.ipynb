{
 "cells": [
  {
   "cell_type": "code",
   "execution_count": 1,
   "id": "0cf300b3-bebd-40fe-9503-12903eea3626",
   "metadata": {},
   "outputs": [],
   "source": [
    "import pickle\n",
    "import numpy as np\n",
    "import lzma\n",
    "import scipy.signal\n",
    "import pickle\n",
    "from scipy import signal\n",
    "import matplotlib.pyplot as plt\n",
    "import multiprocessing"
   ]
  },
  {
   "cell_type": "code",
   "execution_count": null,
   "id": "84a0eb49-feff-49c1-9aab-3c00aa707729",
   "metadata": {},
   "outputs": [],
   "source": []
  },
  {
   "cell_type": "code",
   "execution_count": 2,
   "id": "4ef10bf4-1e46-4b46-b995-be14c79d87ab",
   "metadata": {
    "tags": []
   },
   "outputs": [],
   "source": [
    "def calSpectral(paramdict):\n",
    "    vec_lst = VecbyParm_withGaussian_dic(param)\n",
    "    num_run = vec_lst.shape[0]\n",
    "    num_cell = vec_lst.shape[1]\n",
    "    result_freqlst = []\n",
    "    for nrun in range(num_run):\n",
    "        freq_byrun = []\n",
    "        for ncell in range(num_cell):\n",
    "            celldata = vec_lst[nrun][ncell]\n",
    "            frequencies, psd = signal.welch(celldata, fs=1/0.025)\n",
    "            cellfreq = {'freq': frequencies, 'psd': psd}\n",
    "            freq_byrun.append(cellfreq)\n",
    "        result_freqlst.append(freq_byrun)\n",
    "    savefile_spectral(result_freqlst, paramdict)\n",
    "    return 0\n",
    "\n",
    "def add_gaussian_kernel(input_vector, kernel_size, sigma):\n",
    "\n",
    "    # Define the Gaussian kernel\n",
    "    kernel = scipy.signal.gaussian(kernel_size, sigma)\n",
    "    \n",
    "    # Initialize the result vector with zeros as floating-point numbers\n",
    "    result_vector = np.zeros(len(input_vector), dtype=float)\n",
    "    \n",
    "    # Iterate through the input vector\n",
    "    for i, value in enumerate(input_vector):\n",
    "        if value == 1.0:\n",
    "            # Add the Gaussian kernel to the result vector centered around the current index\n",
    "            start_idx = max(0, i - (kernel_size // 2))\n",
    "            end_idx = min(len(input_vector), i + (kernel_size // 2) + 1)\n",
    "            result_vector[start_idx:end_idx] += kernel[\n",
    "                (kernel_size // 2) - (i - start_idx) : (kernel_size // 2) + (end_idx - i)\n",
    "            ]\n",
    "    \n",
    "    return result_vector\n",
    "\n",
    "sigma_my = 1.0 / 0.025\n",
    "kernel_size_my = int(sigma_my) * 5 * 2 + 1\n",
    "\n",
    "def FiletoVec(name):\n",
    "    with lzma.open(\"./savedoutput/\" + name + \".xz\", \"rb\") as fp:\n",
    "        outsaved = pickle.load(fp)\n",
    "    vec_space = 0.025\n",
    "    spike_mat = np.zeros((len(outsaved), int(10000/vec_space)))\n",
    "    for i in range(len(outsaved)):\n",
    "        for n in range(len(outsaved[i])):\n",
    "            j = int(outsaved[i][n]/vec_space)\n",
    "            spike_mat[i, j] = 1\n",
    "    return spike_mat\n",
    "\n",
    "def FiletoVec_param(NetworkType, n, model_id, input_idx, MeanDelay, stdDelay, n_run):\n",
    "    CellType = \"point\"\n",
    "    name = str(NetworkType) + '_' + str(CellType) + '_layercount' + str(n) + '_model' + str(model_id) + '_input' + str(input_idx) + '_stddelay' + str(stdDelay) + '_meandelay' + str(MeanDelay) + '_nrun' + str(n_run)\n",
    "    return FiletoVec(name)\n",
    "\n",
    "def VecbyParm(NetworkType, n, model_id, input_idx, MeanDelay, stdDelay):\n",
    "    vec_lst = []\n",
    "    for n_run in np.arange(0, 10, 1):\n",
    "        vec_lst.append(FiletoVec_param(NetworkType, n, model_id, input_idx, MeanDelay, stdDelay, n_run))\n",
    "    return np.stack(vec_lst)\n",
    "\n",
    "def VecbyParm_withGaussian(NetworkType, n, model_id, input_idx, MeanDelay, stdDelay):\n",
    "    noguas = VecbyParm(NetworkType, n, model_id, input_idx, MeanDelay, stdDelay)\n",
    "    result_3d = np.apply_along_axis(add_gaussian_kernel, axis=2, arr=noguas, kernel_size = kernel_size_my, sigma = sigma_my)\n",
    "    return result_3d\n",
    "\n",
    "def VecbyParm_withGaussian_dic(paramdict):\n",
    "    NetworkType, n, model_id, input_idx, MeanDelay, stdDelay = paramdict['NetworkType'], paramdict['n'], paramdict['model_id'], paramdict['input_idx'], paramdict['MeanDelay'], paramdict['stdDelay']\n",
    "    noguas = VecbyParm(NetworkType, n, model_id, input_idx, MeanDelay, stdDelay)\n",
    "    result_3d = np.apply_along_axis(add_gaussian_kernel, axis=2, arr=noguas, kernel_size = kernel_size_my, sigma = sigma_my)\n",
    "    return result_3d\n",
    "\n",
    "def savefile_spectral(dataobj, paramdict):\n",
    "    NetworkType, cellcount, model_id, input_idx, meandelay, stddelay = paramdict['NetworkType'], paramdict['n'], paramdict['model_id'], paramdict['input_idx'], paramdict['MeanDelay'], paramdict['stdDelay']\n",
    "    with open('./SpectralProcessing/'+ NetworkType + \"_cellcount\" + str(cellcount) + \"_meandelay\" + str(meandelay) + \"_stddelay\" + str(stddelay) + \"_modelid\" + str(model_id) + \"_inputid\" + str(input_idx) + \"_spectral.pkl\",'wb') as f: \n",
    "        pickle.dump(dataobj, f)\n",
    "    with open('./SpectralCounter/'+ str(paramdict['counter'])+\".pkl\",'wb') as f: \n",
    "        pickle.dump([], f)\n",
    "\n",
    "\n",
    "\n",
    "def counterProcessing(numbertosave):\n",
    "    with open('./SpecProsCounter/'+ str(numbertosave) + \".pkl\",'wb') as f: \n",
    "        pickle.dump(dataobj, f)\n",
    "    return 0\n",
    "    \n",
    "        "
   ]
  },
  {
   "cell_type": "code",
   "execution_count": 3,
   "id": "a705afaa-24f2-4fa7-9892-f4c6f1354ec1",
   "metadata": {
    "tags": []
   },
   "outputs": [],
   "source": [
    "# param = {'NetworkType': 'ScaleFree', 'n': 30, 'model_id': 0, 'input_idx': 0, 'MeanDelay': 2.8, 'stdDelay': 0.1}\n",
    "# calSpectral(param)"
   ]
  },
  {
   "cell_type": "code",
   "execution_count": 4,
   "id": "d0a2ee05-01aa-41f3-a3b9-af62bab82be9",
   "metadata": {
    "tags": []
   },
   "outputs": [],
   "source": [
    "paramlist = []\n",
    "counter = 0\n",
    "for networktype in ['FeedForward', 'ScaleFree', 'SmallWorld']:\n",
    "    for cellcount in [30, 50, 60]:\n",
    "        for modelid in range(10):\n",
    "                for inputid in range(10):\n",
    "                    for MeanDelay_noround in np.arange(2, 3.01, 0.2):\n",
    "                        MeanDelay = np.round(MeanDelay_noround,1)\n",
    "                        for stdDelay_noround in np.arange(0, 1.01, 0.05):\n",
    "                            stdDelay = np.round(stdDelay_noround,2)\n",
    "                            param = {'NetworkType': networktype, 'n': cellcount, 'model_id': modelid, 'input_idx': inputid, 'MeanDelay': MeanDelay, 'stdDelay': stdDelay, 'counter': counter}\n",
    "                            paramlist.append(param)\n",
    "                            counter += 1"
   ]
  },
  {
   "cell_type": "code",
   "execution_count": 5,
   "id": "cc6f4395-a638-4816-a8b2-e7cbd39de59a",
   "metadata": {
    "tags": []
   },
   "outputs": [
    {
     "data": {
      "text/plain": [
       "113400"
      ]
     },
     "execution_count": 5,
     "metadata": {},
     "output_type": "execute_result"
    }
   ],
   "source": [
    "len(paramlist)"
   ]
  },
  {
   "cell_type": "code",
   "execution_count": 6,
   "id": "474bb514-a035-4111-99c0-c7de13f40f42",
   "metadata": {
    "tags": []
   },
   "outputs": [],
   "source": [
    "# paramlist[110000]"
   ]
  },
  {
   "cell_type": "code",
   "execution_count": 7,
   "id": "14113417-f529-4d50-9849-7e93972963af",
   "metadata": {
    "tags": []
   },
   "outputs": [],
   "source": [
    "# calSpectral(paramlist[110000])"
   ]
  },
  {
   "cell_type": "code",
   "execution_count": null,
   "id": "6a926739-adc1-4e45-91eb-520aefcb06b6",
   "metadata": {
    "tags": []
   },
   "outputs": [],
   "source": [
    "\n",
    "# with multiprocessing.Pool(processes=2) as pool:\n",
    "#         pool.map(calSpectral, paramlist[110000:110000 + 4])"
   ]
  },
  {
   "cell_type": "code",
   "execution_count": 2,
   "id": "d6b2b23b-f134-4b53-b411-50796cbc7623",
   "metadata": {},
   "outputs": [],
   "source": [
    "import pickle\n",
    "\n",
    "NetworkType = 'SmallWorld'\n",
    "cellcount = 60\n",
    "meandelay = 2.0\n",
    "stddelay = 0.1\n",
    "model_id = 7\n",
    "input_idx = 3\n",
    "\n",
    "# Specify the file path\n",
    "file_path = './SpectralProcessing/' + NetworkType + \"_cellcount\" + str(cellcount) + \"_meandelay\" + str(meandelay) + \"_stddelay\" + str(stddelay) + \"_modelid\" + str(model_id) + \"_inputid\" + str(input_idx) + \"_spectral.pkl\"\n",
    "\n",
    "# Open the file in binary read mode ('rb')\n",
    "with open(file_path, 'rb') as f:\n",
    "    # Load the data from the pickle file\n",
    "    loaded_data = pickle.load(f)\n",
    "\n",
    "# Now, the 'loaded_data' variable contains the data from the pickle file\n"
   ]
  },
  {
   "cell_type": "code",
   "execution_count": null,
   "id": "022ef83a-ed24-4288-80da-157836a1b042",
   "metadata": {
    "tags": []
   },
   "outputs": [],
   "source": [
    "loaded_data"
   ]
  },
  {
   "cell_type": "code",
   "execution_count": null,
   "id": "c434833f-6965-4f40-ad21-efe13d66f0ac",
   "metadata": {},
   "outputs": [],
   "source": []
  }
 ],
 "metadata": {
  "kernelspec": {
   "display_name": "Python 3 (ipykernel)",
   "language": "python",
   "name": "python3"
  },
  "language_info": {
   "codemirror_mode": {
    "name": "ipython",
    "version": 3
   },
   "file_extension": ".py",
   "mimetype": "text/x-python",
   "name": "python",
   "nbconvert_exporter": "python",
   "pygments_lexer": "ipython3",
   "version": "3.11.0"
  }
 },
 "nbformat": 4,
 "nbformat_minor": 5
}
