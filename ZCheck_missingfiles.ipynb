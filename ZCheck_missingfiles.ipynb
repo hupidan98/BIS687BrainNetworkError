{
 "cells": [
  {
   "cell_type": "code",
   "execution_count": null,
   "id": "9e55f4e9-f076-4e0b-8eb7-f65781176253",
   "metadata": {
    "tags": []
   },
   "outputs": [
    {
     "name": "stderr",
     "output_type": "stream",
     "text": [
      "Checking files:  97%|██████████████▌| 1097577/1134000 [15:39<00:27, 1308.48it/s]"
     ]
    }
   ],
   "source": [
    "import numpy as np\n",
    "import os\n",
    "from tqdm import tqdm\n",
    "\n",
    "paramlist = []\n",
    "counter = 0\n",
    "\n",
    "# Assuming 'CellType' is a constant or derived from other values.\n",
    "# Insert appropriate logic here to determine 'CellType' if necessary.\n",
    "CellType = 'point'  # Placeholder\n",
    "\n",
    "for networktype in ['FeedForward', 'ScaleFree', 'SmallWorld']:\n",
    "    for cellcount in [30, 50, 60]:\n",
    "        for modelid in range(10):\n",
    "            for inputid in range(10):\n",
    "                for MeanDelay_noround in np.arange(2, 3.01, 0.2):\n",
    "                    MeanDelay = np.round(MeanDelay_noround, 1)\n",
    "                    for stdDelay_noround in np.arange(0, 1.01, 0.05):\n",
    "                        stdDelay = np.round(stdDelay_noround, 2)\n",
    "                        for n_run in range(10):\n",
    "                            param = {'NetworkType': networktype, 'n': cellcount, 'model_id': modelid, 'input_idx': inputid, 'MeanDelay': MeanDelay, 'stdDelay': stdDelay, 'counter': counter}\n",
    "                            paramlist.append(param)\n",
    "                            counter += 1\n",
    "\n",
    "with open('missing_files_report.txt', 'w') as file:\n",
    "    for paramdict in tqdm(paramlist, desc=\"Checking files\"):\n",
    "        NetworkType, n, model_id, input_idx, MeanDelay, stdDelay, counter = paramdict.values()\n",
    "        name = f\"{NetworkType}_{CellType}_layercount{n}_model{model_id}_input{input_idx}_stddelay{stdDelay}_meandelay{MeanDelay}_nrun{n_run}\"\n",
    "        filepath = f\"./savedoutput/{name}.xz\"\n",
    "        \n",
    "        if not os.path.exists(filepath):\n",
    "            file.write(f\"{name} - Counter: {counter}\\n\")\n",
    "\n",
    "print(\"Check complete. Missing files (if any) are listed in 'missing_files_report.txt'\")\n"
   ]
  },
  {
   "cell_type": "code",
   "execution_count": 5,
   "id": "340d81e0-9a11-4a95-9a4b-ed191b567bde",
   "metadata": {
    "tags": []
   },
   "outputs": [
    {
     "name": "stdout",
     "output_type": "stream",
     "text": [
      "Requirement already satisfied: tqdm in /Users/jackhan/anaconda3/lib/python3.11/site-packages (4.65.0)\n",
      "\u001b[33mDEPRECATION: torchsde 0.2.5 has a non-standard dependency specifier numpy>=1.19.*; python_version >= \"3.7\". pip 23.3 will enforce this behaviour change. A possible replacement is to upgrade to a newer version of torchsde or contact the author to suggest that they release a version with a conforming dependency specifiers. Discussion can be found at https://github.com/pypa/pip/issues/12063\u001b[0m\u001b[33m\n",
      "\u001b[0mNote: you may need to restart the kernel to use updated packages.\n"
     ]
    }
   ],
   "source": [
    "pip install tqdm\n"
   ]
  },
  {
   "cell_type": "code",
   "execution_count": null,
   "id": "4b483963-a882-4e4c-8f66-c5702f22ca2b",
   "metadata": {},
   "outputs": [],
   "source": []
  }
 ],
 "metadata": {
  "kernelspec": {
   "display_name": "Python 3 (ipykernel)",
   "language": "python",
   "name": "python3"
  },
  "language_info": {
   "codemirror_mode": {
    "name": "ipython",
    "version": 3
   },
   "file_extension": ".py",
   "mimetype": "text/x-python",
   "name": "python",
   "nbconvert_exporter": "python",
   "pygments_lexer": "ipython3",
   "version": "3.11.0"
  }
 },
 "nbformat": 4,
 "nbformat_minor": 5
}
