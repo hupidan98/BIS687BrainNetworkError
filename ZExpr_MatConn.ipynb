{
 "cells": [
  {
   "cell_type": "code",
   "execution_count": 1,
   "id": "85888b7e-98aa-4839-92a6-68ea987ce9d8",
   "metadata": {},
   "outputs": [],
   "source": [
    "from neuron import h, gui\n",
    "from neuron.units import ms, mV\n",
    "\n",
    "h.load_file(\"stdrun.hoc\")\n",
    "import numpy as np\n",
    "import random"
   ]
  },
  {
   "cell_type": "code",
   "execution_count": 2,
   "id": "4fcfa3de-9220-4424-97b0-53b54de281eb",
   "metadata": {},
   "outputs": [],
   "source": [
    "class Cell:\n",
    "    def __init__(self, gid, x, y, z, theta):\n",
    "        self._gid = gid\n",
    "        self._setup_morphology()\n",
    "        self.all = self.soma.wholetree()\n",
    "        self._setup_biophysics()\n",
    "        self.x = self.y = self.z = 0\n",
    "        h.define_shape()\n",
    "        self._rotate_z(theta)\n",
    "        self._set_position(x, y, z)\n",
    "\n",
    "        # everything below here in this method is NEW\n",
    "        self._spike_detector = h.NetCon(self.soma(0.5)._ref_v, None, sec=self.soma)\n",
    "        self.spike_times = h.Vector()\n",
    "        self._spike_detector.record(self.spike_times)\n",
    "\n",
    "        self._ncs = []\n",
    "\n",
    "        self.soma_v = h.Vector().record(self.soma(0.5)._ref_v)\n",
    "\n",
    "    def __repr__(self):\n",
    "        return \"{}[{}]\".format(self.name, self._gid)\n",
    "\n",
    "    def _set_position(self, x, y, z):\n",
    "        for sec in self.all:\n",
    "            for i in range(sec.n3d()):\n",
    "                sec.pt3dchange(\n",
    "                    i,\n",
    "                    x - self.x + sec.x3d(i),\n",
    "                    y - self.y + sec.y3d(i),\n",
    "                    z - self.z + sec.z3d(i),\n",
    "                    sec.diam3d(i),\n",
    "                )\n",
    "        self.x, self.y, self.z = x, y, z\n",
    "\n",
    "    def _rotate_z(self, theta):\n",
    "        \"\"\"Rotate the cell about the Z axis.\"\"\"\n",
    "        for sec in self.all:\n",
    "            for i in range(sec.n3d()):\n",
    "                x = sec.x3d(i)\n",
    "                y = sec.y3d(i)\n",
    "                c = h.cos(theta)\n",
    "                s = h.sin(theta)\n",
    "                xprime = x * c - y * s\n",
    "                yprime = x * s + y * c\n",
    "                sec.pt3dchange(i, xprime, yprime, sec.z3d(i), sec.diam3d(i))"
   ]
  },
  {
   "cell_type": "code",
   "execution_count": 3,
   "id": "ab4a9cc8-28cc-479e-9e40-f0e0d5fe2f87",
   "metadata": {},
   "outputs": [],
   "source": [
    "class BallAndStick(Cell):\n",
    "    name = \"BallAndStick\"\n",
    "\n",
    "    def _setup_morphology(self):\n",
    "        self.soma = h.Section(name=\"soma\", cell=self)\n",
    "        self.dend = h.Section(name=\"dend\", cell=self)\n",
    "        self.dend.connect(self.soma)\n",
    "        self.soma.L = self.soma.diam = 12.6157\n",
    "        self.dend.L = 200\n",
    "        self.dend.diam = 1\n",
    "\n",
    "    def _setup_biophysics(self):\n",
    "        for sec in self.all:\n",
    "            sec.Ra = 100  # Axial resistance in Ohm * cm\n",
    "            sec.cm = 1  # Membrane capacitance in micro Farads / cm^2\n",
    "        self.soma.insert(\"hh\")\n",
    "        for seg in self.soma:\n",
    "            seg.hh.gnabar = 0.12  # Sodium conductance in S/cm2\n",
    "            seg.hh.gkbar = 0.036  # Potassium conductance in S/cm2\n",
    "            seg.hh.gl = 0.0003  # Leak conductance in S/cm2\n",
    "            seg.hh.el = -54.3  # Reversal potential in mV\n",
    "        # Insert passive current in the dendrite\n",
    "        self.dend.insert(\"pas\")\n",
    "        for seg in self.dend:\n",
    "            seg.pas.g = 0.001  # Passive conductance in S/cm2\n",
    "            seg.pas.e = -65  # Leak reversal potential mV\n",
    "\n",
    "        # NEW: the synapse\n",
    "        self.syn = h.ExpSyn(self.dend(0.5))\n",
    "        self.syn.tau = 2 * ms"
   ]
  },
  {
   "cell_type": "code",
   "execution_count": 4,
   "id": "f476ff6f-f6f9-4425-b6cc-996a7c0315e2",
   "metadata": {},
   "outputs": [],
   "source": [
    "a = np.zeros((5,5))\n",
    "for i in range(a.shape[0]):\n",
    "    for j in range(a.shape[1]):\n",
    "        a[i, j] = 10 * i + j\n",
    "for i in range(a.shape[0]):\n",
    "    a[i, i] = 0\n",
    "prob = a[1, :] / a[1,:].sum()\n",
    "\n",
    "# random.random()"
   ]
  },
  {
   "cell_type": "code",
   "execution_count": 5,
   "id": "927bb63e-6c73-434a-beb3-45da58a667f9",
   "metadata": {},
   "outputs": [
    {
     "data": {
      "text/plain": [
       "array([0.20408163, 0.        , 0.24489796, 0.26530612, 0.28571429])"
      ]
     },
     "execution_count": 5,
     "metadata": {},
     "output_type": "execute_result"
    }
   ],
   "source": [
    "prob"
   ]
  },
  {
   "cell_type": "code",
   "execution_count": 6,
   "id": "edf5f00d-1895-4830-9072-0ee73bdd1f3f",
   "metadata": {},
   "outputs": [],
   "source": [
    "class Network():\n",
    "\n",
    "    def __init__(\n",
    "        self, cell_type = BallAndStick, position_info = None, connection_mat = None, stim_w=0.04, stim_t=9, stim_delay=1, syn_w=0.01, syn_delay=5\n",
    "    ):\n",
    "        \"\"\"\n",
    "        :param N: Number of cells.\n",
    "        :param stim_w: Weight of the stimulus\n",
    "        :param stim_t: time of the stimulus (in ms)\n",
    "        :param stim_delay: delay of the stimulus (in ms)\n",
    "        :param syn_w: Synaptic weight\n",
    "        :param syn_delay: Delay of the synapse\n",
    "        :param r: radius of the network\n",
    "        \"\"\"\n",
    "        self._syn_w = syn_w\n",
    "        self._syn_delay = syn_delay\n",
    "        \n",
    "        self._create_cells(cell_type, position_info)\n",
    "        self._connection = np.zeros((len(self.cells), len(self.cells)))\n",
    "        self._connect_cells(connection_mat)\n",
    "        # add stimulus\n",
    "        self._netstim = h.NetStim()\n",
    "        self._netstim.number = 1\n",
    "        self._netstim.start = stim_t\n",
    "        self._nc = h.NetCon(self._netstim, self.cells[0].syn)\n",
    "        self._nc.delay = stim_delay\n",
    "        self._nc.weight[0] = stim_w\n",
    "\n",
    "    def _create_cells(self, cell_type, position_info):\n",
    "        self.cells = []\n",
    "        if (position_info is not None):\n",
    "            for i in range(len(position_info)):\n",
    "                self.cells.append(cell_type(i, position_info[i]['x'], position_info[i]['y'], position_info[i]['z'], position_info[i]['theta']))\n",
    "        else:\n",
    "            N = 5\n",
    "            r = 50\n",
    "            for i in range(N):\n",
    "                theta = i * 2 * h.PI / N\n",
    "                self.cells.append(\n",
    "                    BallAndStick(i, h.cos(theta) * r, h.sin(theta) * r, 0, theta)\n",
    "                )\n",
    "                \n",
    "\n",
    "    def _connect_cells(self, connection_mat):\n",
    "        if (connection_mat is not None):\n",
    "            for i in range(connection_mat.shape[0]):\n",
    "                for j in range(connection_mat.shape[1]):\n",
    "                    if connection_mat[i, j] == 1:\n",
    "                        source, target = self.cells[i], self.cells[j]\n",
    "                        nc = h.NetCon(source.soma(0.5)._ref_v, target.syn, sec=source.soma)\n",
    "                        nc.weight[0] = self._syn_w\n",
    "                        nc.delay = self._syn_delay\n",
    "                        source._ncs.append(nc)\n",
    "            self._connection = connection_mat\n",
    "        else:\n",
    "            print('No distance given')\n",
    "            dist_mat = self._cal_cell_distance()\n",
    "            for i in range(len(self.cells)):\n",
    "                random_prob = random.random()\n",
    "                prob = dist_mat[i, :] / dist_mat[i,:].sum()\n",
    "                for j in range(len(self.cells)):\n",
    "                    random_prob = random_prob - prob[j]\n",
    "                    if random_prob <= 0:\n",
    "                        source, target = self.cells[i], self.cells[j]\n",
    "                        nc = h.NetCon(source.soma(0.5)._ref_v, target.syn, sec=source.soma)\n",
    "                        nc.weight[0] = self._syn_w\n",
    "                        nc.delay = self._syn_delay\n",
    "                        source._ncs.append(nc)\n",
    "                        self._connection[i, j] = 1 \n",
    "                        break\n",
    "                \n",
    "            \n",
    "    def _cal_cell_distance(self):\n",
    "        cell_count = len(self.cells)\n",
    "        dist_mat = np.zeros((cell_count, cell_count))\n",
    "        for i in range(cell_count):\n",
    "            for j in range(cell_count):\n",
    "                if i != j:\n",
    "                    dist_mat[i, j] = np.sqrt((self.cells[i].x - self.cells[j].x) ** 2 + (self.cells[i].y - self.cells[j].y) ** 2 + (self.cells[i].z - self.cells[j].z) ** 2)\n",
    "                else:\n",
    "                    dist_mat[i, j] = 0\n",
    "        return dist_mat\n",
    "\n",
    "        \n",
    "            "
   ]
  },
  {
   "cell_type": "code",
   "execution_count": 7,
   "id": "b1565637-539c-4777-a02c-1aeb8250ca30",
   "metadata": {},
   "outputs": [],
   "source": [
    "# connection_mat = np.array([[0, 1, 0, 0, 0],\n",
    "#                            [0, 0, 1, 0, 0],\n",
    "#                            [0, 0, 0, 1, 0],\n",
    "#                            [0, 0, 0, 0, 1],\n",
    "#                            [1, 0, 0, 0, 0]])\n",
    "connection_mat = None\n",
    "\n",
    "cell = BallAndStick\n",
    "\n",
    "\n",
    "position_info = []\n",
    "N = 5\n",
    "r = 50\n",
    "for i in range(N):\n",
    "    theta = i * 2 * h.PI / N\n",
    "    x = h.cos(theta) * r\n",
    "    y =  h.sin(theta) * r\n",
    "    z = 0\n",
    "    singal_info = {'x': x, 'y': y, 'z':z, 'theta':theta}\n",
    "    position_info.append(singal_info)\n",
    "\n",
    "# position_info = [{\"x\": 150, \"y\": -80, \"z\": 20, \"theta\" : 2 * h.PI }, \n",
    "#                  {\"x\": 10, \"y\": 100, \"z\": 60, \"theta\": 0 * h.PI },\n",
    "#                  {\"x\": -50, \"y\": 70, \"z\": 0, \"theta\":  1.7 * h.PI},\n",
    "#                  {\"x\": 60, \"y\": -100, \"z\": -30, \"theta\": 1.2 * h.PI },\n",
    "#                  {\"x\": 0, \"y\": 0, \"z\": -30, \"theta\":  0.5 * h.PI }]\n",
    "    \n",
    "\n",
    "\n",
    "    "
   ]
  },
  {
   "cell_type": "code",
   "execution_count": 8,
   "id": "6e93783f-004c-4929-af47-0d526fdd812e",
   "metadata": {},
   "outputs": [
    {
     "name": "stdout",
     "output_type": "stream",
     "text": [
      "No distance given\n"
     ]
    }
   ],
   "source": [
    "ring = Network(BallAndStick, position_info, connection_mat)"
   ]
  },
  {
   "cell_type": "code",
   "execution_count": 9,
   "id": "63607e7d-5a53-4f5b-8b85-c5ff23c47700",
   "metadata": {},
   "outputs": [
    {
     "data": {
      "text/plain": [
       "array([[0., 0., 0., 0., 1.],\n",
       "       [0., 0., 0., 0., 1.],\n",
       "       [0., 0., 0., 0., 1.],\n",
       "       [0., 0., 1., 0., 0.],\n",
       "       [1., 0., 0., 0., 0.]])"
      ]
     },
     "execution_count": 9,
     "metadata": {},
     "output_type": "execute_result"
    }
   ],
   "source": [
    "ring._connection\n"
   ]
  },
  {
   "cell_type": "code",
   "execution_count": 10,
   "id": "c103e2b4-ebde-4a74-bcc0-4d49a87206a6",
   "metadata": {},
   "outputs": [
    {
     "data": {
      "image/png": "[encoded data removed]",
      "text/plain": [
       "<Figure size 640x480 with 1 Axes>"
      ]
     },
     "metadata": {},
     "output_type": "display_data"
    }
   ],
   "source": [
    "shape_window = h.PlotShape(True)\n",
    "shape_window.show(0)\n",
    "\n",
    "t = h.Vector().record(h._ref_t)\n",
    "h.finitialize(-65 * mV)\n",
    "h.continuerun(100)\n",
    "\n",
    "%matplotlib inline\n",
    "import matplotlib.pyplot as plt\n",
    "\n",
    "plt.plot(t, ring.cells[0].soma_v)\n",
    "plt.show()\n",
    "\n"
   ]
  },
  {
   "cell_type": "code",
   "execution_count": 11,
   "id": "055498cd-7ae9-4860-92f0-1581b051ea31",
   "metadata": {},
   "outputs": [
    {
     "data": {
      "image/png": "[encoded data removed]",
      "text/plain": [
       "<Figure size 640x480 with 1 Axes>"
      ]
     },
     "metadata": {},
     "output_type": "display_data"
    }
   ],
   "source": [
    "plt.figure()\n",
    "for i, cell in enumerate(ring.cells):\n",
    "    # print(i, cell.spike_times)\n",
    "    if len(cell.spike_times) > 0:\n",
    "        plt.vlines(cell.spike_times, i + 0.5, i + 1.5)\n",
    "plt.show()"
   ]
  },
  {
   "cell_type": "code",
   "execution_count": null,
   "id": "a1475744-a307-4cec-9cd1-bcb471b9cb3b",
   "metadata": {},
   "outputs": [],
   "source": []
  }
 ],
 "metadata": {
  "kernelspec": {
   "display_name": "Python 3 (ipykernel)",
   "language": "python",
   "name": "python3"
  },
  "language_info": {
   "codemirror_mode": {
    "name": "ipython",
    "version": 3
   },
   "file_extension": ".py",
   "mimetype": "text/x-python",
   "name": "python",
   "nbconvert_exporter": "python",
   "pygments_lexer": "ipython3",
   "version": "3.11.4"
  }
 },
 "nbformat": 4,
 "nbformat_minor": 5
}
