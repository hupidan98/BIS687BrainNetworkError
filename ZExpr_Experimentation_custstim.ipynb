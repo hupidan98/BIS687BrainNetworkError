{
 "cells": [
  {
   "cell_type": "code",
   "execution_count": 1,
   "id": "830e357b-c394-4a0e-851e-a2ec4e24cdf8",
   "metadata": {},
   "outputs": [],
   "source": [
    "from neuron import h, gui\n",
    "from neuron.units import ms, mV\n",
    "import Cell\n",
    "import ConnectionMapGen as cmg\n",
    "import spikedelayer as sd\n",
    "import Network\n",
    "\n",
    "h.load_file(\"stdrun.hoc\")\n",
    "import numpy as np\n",
    "import random"
   ]
  },
  {
   "cell_type": "code",
   "execution_count": 2,
   "id": "fb832a13-d604-4d26-af88-b30e88ed5534",
   "metadata": {},
   "outputs": [],
   "source": [
    "network_connmat = np.array([ [0, 1, 0],\n",
    "                        [0, 0, 1],\n",
    "                        [1, 0, 0] ]) * 0.00028"
   ]
  },
  {
   "cell_type": "code",
   "execution_count": 3,
   "id": "6a06abc6-5381-4bff-be72-32083b119a8e",
   "metadata": {},
   "outputs": [
    {
     "name": "stdout",
     "output_type": "stream",
     "text": [
      "\n",
      "|-|       Pointcell[0].soma(0-1)\n",
      "|-|       Pointcell[1].soma(0-1)\n",
      "|-|       Pointcell[2].soma(0-1)\n",
      "\n"
     ]
    }
   ],
   "source": [
    "sample_network = Network.Network(connection_mat = network_connmat, cell_type = Cell.PointCell)\n",
    "# add stimulus\n",
    "\n",
    "# sample_network.cells[0].pos_stim.number = 1\n",
    "# sample_network.cells[0].pos_stim.start = 20\n",
    "# sample_network.cells[0].pos_stim.interval = 1\n",
    "\n",
    "sample_network.cells[0].add_custom_stimulus([20])\n"
   ]
  },
  {
   "cell_type": "code",
   "execution_count": 4,
   "id": "bc5758da-6303-410d-a329-637f1c2492ae",
   "metadata": {},
   "outputs": [
    {
     "data": {
      "image/png": "[encoded data removed]",
      "text/plain": [
       "<Figure size 640x480 with 1 Axes>"
      ]
     },
     "metadata": {},
     "output_type": "display_data"
    }
   ],
   "source": [
    "shape_window = h.PlotShape(True)\n",
    "shape_window.show(0)\n",
    "\n",
    "t = h.Vector().record(h._ref_t)\n",
    "h.finitialize(-65 * mV)\n",
    "h.continuerun(200)\n",
    "\n",
    "%matplotlib inline\n",
    "import matplotlib.pyplot as plt\n",
    "\n",
    "plt.plot(t, sample_network.cells[0].soma_v)\n",
    "plt.plot(t, sample_network.cells[1].soma_v)\n",
    "plt.plot(t, sample_network.cells[2].soma_v)\n",
    "plt.show()\n",
    "\n"
   ]
  },
  {
   "cell_type": "code",
   "execution_count": 5,
   "id": "654ebce9-3823-485f-88a0-390b966b2eea",
   "metadata": {},
   "outputs": [
    {
     "data": {
      "text/plain": [
       "<Figure size 640x480 with 0 Axes>"
      ]
     },
     "metadata": {},
     "output_type": "display_data"
    }
   ],
   "source": [
    "plt.figure()\n",
    "for i, cell in enumerate(sample_network.cells):\n",
    "    # print(i, cell.spike_times)\n",
    "    if len(cell.spike_times) > 0:\n",
    "        plt.vlines(cell.spike_times, i + 0.5, i + 1.5)\n",
    "plt.show()"
   ]
  },
  {
   "cell_type": "code",
   "execution_count": null,
   "id": "fca48b0b-30f8-43fb-956b-1a3a3de4e969",
   "metadata": {},
   "outputs": [],
   "source": []
  }
 ],
 "metadata": {
  "kernelspec": {
   "display_name": "Python 3 (ipykernel)",
   "language": "python",
   "name": "python3"
  },
  "language_info": {
   "codemirror_mode": {
    "name": "ipython",
    "version": 3
   },
   "file_extension": ".py",
   "mimetype": "text/x-python",
   "name": "python",
   "nbconvert_exporter": "python",
   "pygments_lexer": "ipython3",
   "version": "3.9.13"
  }
 },
 "nbformat": 4,
 "nbformat_minor": 5
}
