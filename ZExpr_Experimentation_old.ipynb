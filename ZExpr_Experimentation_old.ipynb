{
 "cells": [
  {
   "cell_type": "code",
   "execution_count": 1,
   "id": "ed0b06af-90d5-4d0f-8d5b-ba5b22883dd7",
   "metadata": {},
   "outputs": [],
   "source": [
    "from neuron import h, gui\n",
    "from neuron.units import ms, mV\n",
    "import Cell\n",
    "import ConnectionMapGen as cmg\n",
    "import spikedelayer as sd\n",
    "\n",
    "h.load_file(\"stdrun.hoc\")\n",
    "import numpy as np\n",
    "import random"
   ]
  },
  {
   "cell_type": "code",
   "execution_count": 2,
   "id": "f012fbcd-d1dc-4fad-9444-65f02b05aaaa",
   "metadata": {},
   "outputs": [],
   "source": [
    "class Network():\n",
    "    def __init__(\n",
    "        self, cell_type = Cell.BallAndStick, position_info = None, connection_mat = None, \n",
    "        stim_w=0.04, stim_t=9,  stim_delay=1, syn_mean_delay = 5, syn_std_delay = 5):\n",
    "        \"\"\"\n",
    "        :param N: Number of cells.\n",
    "        :param stim_w: Weight of the stimulus\n",
    "        :param stim_t: time of the stimulus (in ms)\n",
    "        :param stim_delay: delay of the stimulus (in ms)\n",
    "        \n",
    "        :param syn_w: Synaptic weight\n",
    "        :param syn_delay: Delay of the synapse\n",
    "        :param r: radius of the network\n",
    "        \"\"\"\n",
    "        if connection_mat is not None:\n",
    "            self._connection = connection_mat\n",
    "        else:\n",
    "            self._connection = cmg.RingMapGen(5, 0.1)\n",
    "        \n",
    "        self._syn_mean_delay = syn_mean_delay\n",
    "        self._syn_std_delay = syn_std_delay\n",
    "        \n",
    "        self._create_cells(cell_type, position_info, connection_mat)\n",
    "        h.topology()\n",
    "        self._connect_cells(connection_mat)\n",
    "        \n",
    "        # add stimulus\n",
    "        \n",
    "        self._netstim = h.NetStim()\n",
    "        self._netstim.number = 1\n",
    "        self._netstim.start = stim_t\n",
    "        \n",
    "        self._nc = h.NetCon(self._netstim, self.cells[0].pos_syn)\n",
    "        self._nc.delay = stim_delay\n",
    "        self._nc.weight[0] = stim_w\n",
    "    \n",
    "    \n",
    "    def _create_cells(self, cell_type, position_info, connection_mat):\n",
    "        self.cells = []\n",
    "        if (position_info is not None):\n",
    "            for i in range(len(position_info)):\n",
    "                self.cells.append(cell_type(i, position_info[i]['x'], position_info[i]['y'], position_info[i]['z'], position_info[i]['theta']))\n",
    "        else:\n",
    "            N = self._connection.shape[0]\n",
    "            r = N * 5\n",
    "            for i in range(N):\n",
    "                theta = i * 2 * h.PI / N\n",
    "                self.cells.append(\n",
    "                    cell_type(i, h.cos(theta) * r, h.sin(theta) * r, 0, theta)\n",
    "                )\n",
    "        \n",
    "    def _connect_cells(self, connection_mat):\n",
    "        for i in range(connection_mat.shape[0]):\n",
    "            for j in range(connection_mat.shape[1]):\n",
    "                if connection_mat[i, j] > 0:\n",
    "                    source, target = self.cells[i], self.cells[j]\n",
    "\n",
    "                    # nc = sd.NetCon(source.soma(0.5), target.pos_syn)\n",
    "                    nc = sd.NetCon(source.soma(0.5)._ref_v, target.pos_syn, sec=source.soma)\n",
    "                    nc.weight[0] = connection_mat[i, j]\n",
    "                    nc.mean_delay = self._syn_mean_delay * ms\n",
    "                    nc.std_delay = self._syn_std_delay * ms\n",
    "                    \n",
    "                    # nc = h.NetCon(source.soma(0.5)._ref_v, target.pos_syn, sec=source.soma)\n",
    "                    # nc.weight[0] = connection_mat[i, j]\n",
    "                    # nc.delay = self._syn_mean_delay\n",
    "                    \n",
    "                    source._ncs.append(nc)\n",
    "                elif connection_mat[i, j] < 0:\n",
    "                    source, target = self.cells[i], self.cells[j]\n",
    "                    \n",
    "                    # nc = sd.NetCon(source.soma(0.5), target.neg_syn)\n",
    "                    nc = sd.NetCon(source.soma(0.5)._ref_v, target.neg_syn, sec=source.soma)\n",
    "                    nc.weight[0] = -connection_mat[i, j]\n",
    "                    nc.mean_delay = self._syn_mean_delay * ms\n",
    "                    nc.std_delay = self._syn_std_delay * ms\n",
    "                    \n",
    "                    # nc = h.NetCon(source.soma(0.5)._ref_v, target.neg_syn, sec=source.soma)\n",
    "                    # nc.weight[0] = -connection_mat[i, j]\n",
    "                    # nc.delay = self._syn_mean_delay\n",
    "                    \n",
    "                    source._ncs.append(nc)\n",
    "                        \n",
    "        \n",
    "\n",
    "    "
   ]
  },
  {
   "cell_type": "code",
   "execution_count": 7,
   "id": "73be2747-7836-467b-96bc-ca39af9532e9",
   "metadata": {},
   "outputs": [],
   "source": [
    "sm_connmat = cmg.SmallWorldMapGen(10)\n",
    "\n",
    "# sm_connmat = np.array([[0, 1, 0, 0, 0],\n",
    "#                            [0, 0, 1, 0, 0],\n",
    "#                            [0, 0, 0, 1, 0],\n",
    "#                            [0, 0, 0, 0, 1],\n",
    "#                            [1, 0, 0, 0, 0]])\n"
   ]
  },
  {
   "cell_type": "code",
   "execution_count": 8,
   "id": "a92dd957-59c4-4eca-a361-ae29ef6d69db",
   "metadata": {},
   "outputs": [
    {
     "name": "stdout",
     "output_type": "stream",
     "text": [
      "\n",
      "|-|       BallAndStick[0].soma(0-1)\n",
      "   `|       BallAndStick[0].dend(0-1)\n",
      "|-|       BallAndStick[1].soma(0-1)\n",
      "   `|       BallAndStick[1].dend(0-1)\n",
      "|-|       BallAndStick[2].soma(0-1)\n",
      "   `|       BallAndStick[2].dend(0-1)\n",
      "|-|       BallAndStick[3].soma(0-1)\n",
      "   `|       BallAndStick[3].dend(0-1)\n",
      "|-|       BallAndStick[4].soma(0-1)\n",
      "   `|       BallAndStick[4].dend(0-1)\n",
      "|-|       BallAndStick[5].soma(0-1)\n",
      "   `|       BallAndStick[5].dend(0-1)\n",
      "|-|       BallAndStick[6].soma(0-1)\n",
      "   `|       BallAndStick[6].dend(0-1)\n",
      "|-|       BallAndStick[7].soma(0-1)\n",
      "   `|       BallAndStick[7].dend(0-1)\n",
      "|-|       BallAndStick[8].soma(0-1)\n",
      "   `|       BallAndStick[8].dend(0-1)\n",
      "|-|       BallAndStick[9].soma(0-1)\n",
      "   `|       BallAndStick[9].dend(0-1)\n",
      "|-|       BallAndStick[0].soma(0-1)\n",
      "   `|       BallAndStick[0].dend(0-1)\n",
      "|-|       BallAndStick[1].soma(0-1)\n",
      "   `|       BallAndStick[1].dend(0-1)\n",
      "|-|       BallAndStick[2].soma(0-1)\n",
      "   `|       BallAndStick[2].dend(0-1)\n",
      "|-|       BallAndStick[3].soma(0-1)\n",
      "   `|       BallAndStick[3].dend(0-1)\n",
      "|-|       BallAndStick[4].soma(0-1)\n",
      "   `|       BallAndStick[4].dend(0-1)\n",
      "|-|       BallAndStick[5].soma(0-1)\n",
      "   `|       BallAndStick[5].dend(0-1)\n",
      "|-|       BallAndStick[6].soma(0-1)\n",
      "   `|       BallAndStick[6].dend(0-1)\n",
      "|-|       BallAndStick[7].soma(0-1)\n",
      "   `|       BallAndStick[7].dend(0-1)\n",
      "|-|       BallAndStick[8].soma(0-1)\n",
      "   `|       BallAndStick[8].dend(0-1)\n",
      "|-|       BallAndStick[9].soma(0-1)\n",
      "   `|       BallAndStick[9].dend(0-1)\n",
      "\n"
     ]
    }
   ],
   "source": [
    "smallworld = Network(connection_mat = sm_connmat)"
   ]
  },
  {
   "cell_type": "code",
   "execution_count": 11,
   "id": "2048b179-2cd7-49b3-90e7-048b8da8e078",
   "metadata": {},
   "outputs": [
    {
     "data": {
      "text/plain": [
       "array([[ 0.04325826,  0.09712447,  0.04095909,  0.        ,  0.        ,\n",
       "         0.        ,  0.        ,  0.        ,  0.        ,  0.        ],\n",
       "       [ 0.        ,  0.08013125,  0.00948407,  0.08901905,  0.        ,\n",
       "         0.        ,  0.        ,  0.        ,  0.        ,  0.        ],\n",
       "       [ 0.        ,  0.        ,  0.        , -0.01598849,  0.0657387 ,\n",
       "         0.        ,  0.        ,  0.        , -0.00592378,  0.        ],\n",
       "       [ 0.        ,  0.        ,  0.        ,  0.06278441,  0.        ,\n",
       "         0.093473  ,  0.        ,  0.        ,  0.        ,  0.09464248],\n",
       "       [ 0.        ,  0.        ,  0.        ,  0.        ,  0.05791757,\n",
       "        -0.05304328, -0.00695304,  0.        ,  0.        ,  0.        ],\n",
       "       [ 0.        ,  0.        ,  0.        ,  0.        ,  0.        ,\n",
       "        -0.05765521, -0.01115219,  0.05814379,  0.        ,  0.        ],\n",
       "       [ 0.        ,  0.        ,  0.        ,  0.        ,  0.        ,\n",
       "         0.        , -0.08776071, -0.04018718,  0.06833018,  0.        ],\n",
       "       [ 0.        ,  0.        ,  0.        ,  0.        ,  0.        ,\n",
       "         0.0398866 ,  0.        ,  0.        ,  0.01751264, -0.07898349],\n",
       "       [ 0.04137427,  0.        ,  0.        ,  0.        ,  0.        ,\n",
       "         0.        , -0.05398521,  0.        ,  0.09453389,  0.        ],\n",
       "       [ 0.0295314 , -0.02447989,  0.        ,  0.        ,  0.        ,\n",
       "         0.        ,  0.        ,  0.        ,  0.        , -0.04204942]])"
      ]
     },
     "execution_count": 11,
     "metadata": {},
     "output_type": "execute_result"
    }
   ],
   "source": [
    "sm_connmat"
   ]
  },
  {
   "cell_type": "code",
   "execution_count": 9,
   "id": "7edc47cc-34bb-4765-9942-028758cd94d5",
   "metadata": {},
   "outputs": [
    {
     "data": {
      "image/png": "[encoded data removed]",
      "text/plain": [
       "<Figure size 640x480 with 1 Axes>"
      ]
     },
     "metadata": {},
     "output_type": "display_data"
    }
   ],
   "source": [
    "shape_window = h.PlotShape(True)\n",
    "shape_window.show(0)\n",
    "\n",
    "t = h.Vector().record(h._ref_t)\n",
    "h.finitialize(-65 * mV)\n",
    "h.continuerun(100)\n",
    "\n",
    "%matplotlib inline\n",
    "import matplotlib.pyplot as plt\n",
    "\n",
    "plt.plot(t, smallworld.cells[0].soma_v)\n",
    "plt.show()\n",
    "\n"
   ]
  },
  {
   "cell_type": "code",
   "execution_count": 10,
   "id": "b95c5a0e-7c5e-4489-9cab-88107a11c5ca",
   "metadata": {},
   "outputs": [
    {
     "data": {
      "image/png": "[encoded data removed]",
      "text/plain": [
       "<Figure size 640x480 with 1 Axes>"
      ]
     },
     "metadata": {},
     "output_type": "display_data"
    }
   ],
   "source": [
    "plt.figure()\n",
    "for i, cell in enumerate(smallworld.cells):\n",
    "    # print(i, cell.spike_times)\n",
    "    if len(cell.spike_times) > 0:\n",
    "        plt.vlines(cell.spike_times, i + 0.5, i + 1.5)\n",
    "plt.show()"
   ]
  },
  {
   "cell_type": "code",
   "execution_count": null,
   "id": "0990c193-c81b-4260-99f8-07fb941769cd",
   "metadata": {},
   "outputs": [],
   "source": []
  }
 ],
 "metadata": {
  "kernelspec": {
   "display_name": "Python 3 (ipykernel)",
   "language": "python",
   "name": "python3"
  },
  "language_info": {
   "codemirror_mode": {
    "name": "ipython",
    "version": 3
   },
   "file_extension": ".py",
   "mimetype": "text/x-python",
   "name": "python",
   "nbconvert_exporter": "python",
   "pygments_lexer": "ipython3",
   "version": "3.9.13"
  }
 },
 "nbformat": 4,
 "nbformat_minor": 5
}
