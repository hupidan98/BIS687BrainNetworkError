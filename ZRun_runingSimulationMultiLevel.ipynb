{
 "cells": [
  {
   "cell_type": "code",
   "execution_count": 1,
   "id": "8a4e3945-19e5-4cdc-b4ae-d58bb73985f5",
   "metadata": {},
   "outputs": [],
   "source": [
    "import numpy as np\n",
    "from numpy.random import default_rng\n",
    "import random\n",
    "import RunningFFnetwork\n",
    "import ConnectionMapGen\n",
    "import pickle\n",
    "from multiprocessing import Pool\n",
    "\n"
   ]
  },
  {
   "cell_type": "code",
   "execution_count": null,
   "id": "7743d845-56c0-4cf1-8f0d-fcd5a8f2056d",
   "metadata": {},
   "outputs": [
    {
     "name": "stdout",
     "output_type": "stream",
     "text": [
      "0 630 1_30_2.0\n",
      "630 1260 1_30_2.2\n",
      "1260 1890 1_30_2.4\n",
      "1890 2520 1_30_2.6\n",
      "2520 3150 1_30_2.8\n",
      "3150 3780 1_30_3.0\n",
      "3780 4410 1_35_2.0\n",
      "4410 5040 1_35_2.2\n",
      "5040 5670 1_35_2.4\n",
      "5670 6300 1_35_2.6\n",
      "6300 6930 1_35_2.8\n",
      "6930 7560 1_35_3.0\n",
      "7560 8190 1_40_2.0\n",
      "8190 8820 1_40_2.2\n",
      "8820 9450 1_40_2.4\n",
      "9450 10080 1_40_2.6\n",
      "10080 10710 1_40_2.8\n",
      "10710 11340 1_40_3.0\n",
      "11340 11970 2_30_2.0\n",
      "11970 12600 2_30_2.2\n",
      "12600 13230 2_30_2.4\n",
      "13230 13860 2_30_2.6\n",
      "13860 14490 2_30_2.8\n",
      "14490 15120 2_30_3.0\n",
      "15120 15750 2_35_2.0\n",
      "15750 16380 2_35_2.2\n",
      "16380 17010 2_35_2.4\n",
      "17010 17640 2_35_2.6\n",
      "17640 18270 2_35_2.8\n",
      "18270 18900 2_35_3.0\n",
      "18900 19530 2_40_2.0\n",
      "19530 20160 2_40_2.2\n",
      "20160 20790 2_40_2.4\n",
      "20790 21420 2_40_2.6\n"
     ]
    }
   ],
   "source": [
    "import pickle\n",
    "import RunningFFnetwork\n",
    "import numpy as np\n",
    "\n",
    "\n",
    "counter = 0\n",
    "starting_counter = 630 * 8\n",
    "for nlevel in (np.arange(1, 10)):\n",
    "    for n in (np.arange(30, 41, 5)):\n",
    "        for MeanDelay_noround in (np.arange(2, 3.01, 0.2)):\n",
    "            MeanDelay = np.round(MeanDelay_noround,1)\n",
    "            with open('./params/' + str(nlevel) + '_' + str(n) + '_' + str(MeanDelay) + '_running_params.pkl', 'rb') as inp:\n",
    "                param_list_1 = pickle.load(inp)\n",
    "                print(counter, counter + len(param_list_1), str(nlevel) + '_' + str(n) + '_' + str(MeanDelay))\n",
    "                if counter > (starting_counter - len(param_list_1)):\n",
    "                    with Pool(4) as p:\n",
    "                            p.map(RunningFFnetwork.runingFFnetowrk_singalparam, (param_list_1))\n",
    "                counter += len(param_list_1)\n",
    "                 \n",
    "                # for i in range(int(len(param_list_1)/20)):\n",
    "                #     with Pool() as p:1\n",
    "                #         p.map(RunningFFnetwork.runingFFnetowrk_singalparam, param_list_1[20 * i:min(len(param_list_1), 20 * (i+1))])s"
   ]
  },
  {
   "cell_type": "code",
   "execution_count": null,
   "id": "cbd9fd6e-391d-4d9f-8c97-9c3c8c5f217d",
   "metadata": {},
   "outputs": [],
   "source": [
    "# with open(\"./savedoutput/[70, 70, 35, 1]_point_2.0_0.0_0_0.pkl\", \"rb\") as fp:\n",
    "#     outsaved = pickle.load(fp)"
   ]
  },
  {
   "cell_type": "code",
   "execution_count": null,
   "id": "05e5802a-e745-48ac-8eb3-0036f6c0afec",
   "metadata": {},
   "outputs": [],
   "source": []
  }
 ],
 "metadata": {
  "kernelspec": {
   "display_name": "Python 3 (ipykernel)",
   "language": "python",
   "name": "python3"
  },
  "language_info": {
   "codemirror_mode": {
    "name": "ipython",
    "version": 3
   },
   "file_extension": ".py",
   "mimetype": "text/x-python",
   "name": "python",
   "nbconvert_exporter": "python",
   "pygments_lexer": "ipython3",
   "version": "3.9.13"
  }
 },
 "nbformat": 4,
 "nbformat_minor": 5
}
