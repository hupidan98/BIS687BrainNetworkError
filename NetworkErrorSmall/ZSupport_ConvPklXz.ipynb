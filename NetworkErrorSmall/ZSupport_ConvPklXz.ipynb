{
 "cells": [
  {
   "cell_type": "code",
   "execution_count": 1,
   "id": "7a6a4db1-025a-4bc0-8326-0602dc089fa4",
   "metadata": {},
   "outputs": [],
   "source": [
    "import numpy as np\n",
    "from numpy import asarray\n",
    "from numpy import savetxt\n",
    "import pickle\n",
    "import lzma\n",
    "from multiprocessing import Pool\n",
    "def ConvertingPklXz(param_dic):\n",
    "    with open('./savedoutput_decomp/'+param_dic['unique_id']+\".pkl\", \"rb\") as fp:\n",
    "        output = pickle.load(fp)\n",
    "    with lzma.open('./savedoutput/'+param_dic['unique_id']+\".xz\", \"wb\") as fp:\n",
    "        pickle.dump(output, fp)\n",
    "    \n",
    "    return 0 #output"
   ]
  },
  {
   "cell_type": "code",
   "execution_count": 2,
   "id": "1dc5d471-b30e-4256-8e2a-858f08b975b5",
   "metadata": {},
   "outputs": [],
   "source": [
    "def run_py(file_counter):\n",
    "    file_counter = int(file_counter)\n",
    "                \n",
    "    counter = 0\n",
    "    for netname in ['FeedForward', 'SmallWorld', 'ScaleFree', 'Random']:\n",
    "        for n in np.arange(30, 61, 10):\n",
    "            for model_id in range(10):\n",
    "                for input_idx in range(10):\n",
    "                    if counter == file_counter:\n",
    "                        print(counter, str(n) + '_' + str(model_id) + '_' + str(input_idx))\n",
    "                        with open( './params/'+ netname + '_' + 'point' + '_layercount' + str(n) +  '_model' + str(model_id) + '_input' + str(input_idx) + '_' + 'running_params.pkl', 'rb') as inp:\n",
    "                            param_list_1 = pickle.load(inp)\n",
    "                            for param_sing in param_list_1:\n",
    "                                ConvertingPklXz(param_sing)\n",
    "                            # with Pool(4) as p:\n",
    "                            #     p.map(ConvertingPklXz, (param_list_1))\n",
    "                        with open( './finished_counter/'+str(file_counter) + '.pkl', 'wb') as outp:\n",
    "                            pickle.dump([], outp, pickle.HIGHEST_PROTOCOL)\n",
    "                    counter += 1\n",
    "                        "
   ]
  },
  {
   "cell_type": "code",
   "execution_count": 3,
   "id": "75bf44b3-1597-41e1-9bc0-0fe94cc7646e",
   "metadata": {},
   "outputs": [
    {
     "name": "stdout",
     "output_type": "stream",
     "text": [
      "400 30_0_0\n",
      "401 30_0_1\n",
      "402 30_0_2\n",
      "403 30_0_3\n",
      "404 30_0_4\n",
      "405 30_0_5\n",
      "406 30_0_6\n",
      "407 30_0_7\n",
      "408 30_0_8\n",
      "409 30_0_9\n",
      "410 30_1_0\n",
      "411 30_1_1\n",
      "412 30_1_2\n",
      "413 30_1_3\n",
      "414 30_1_4\n",
      "415 30_1_5\n",
      "416 30_1_6\n",
      "417 30_1_7\n",
      "418 30_1_8\n",
      "419 30_1_9\n",
      "420 30_2_0\n",
      "421 30_2_1\n",
      "422 30_2_2\n",
      "423 30_2_3\n",
      "424 30_2_4\n",
      "425 30_2_5\n",
      "426 30_2_6\n",
      "427 30_2_7\n",
      "428 30_2_8\n",
      "429 30_2_9\n",
      "430 30_3_0\n",
      "431 30_3_1\n",
      "432 30_3_2\n",
      "433 30_3_3\n",
      "434 30_3_4\n",
      "435 30_3_5\n",
      "436 30_3_6\n",
      "437 30_3_7\n",
      "438 30_3_8\n",
      "439 30_3_9\n",
      "440 30_4_0\n",
      "441 30_4_1\n",
      "442 30_4_2\n",
      "443 30_4_3\n",
      "444 30_4_4\n",
      "445 30_4_5\n",
      "446 30_4_6\n",
      "447 30_4_7\n",
      "448 30_4_8\n",
      "449 30_4_9\n",
      "450 30_5_0\n"
     ]
    }
   ],
   "source": [
    "if __name__ == '__main__':\n",
    "    # if len(sys.argv) != 2:\n",
    "    #     print(\"Usage: python script.py <number>\")\n",
    "    #     sys.exit(1)\n",
    "\n",
    "    # number = int(sys.argv[1])\n",
    "    starting = 400\n",
    "    end = starting + 51\n",
    "    for i in (range(starting, end)):\n",
    "        run_py(i)\n",
    "#     for i in ([813, 814, 828, 829, 843, 844, 845, 846, 847, 848]):\n",
    "#         run_py(i)\n",
    "#     run_py(99)\n",
    "\n",
    "    "
   ]
  },
  {
   "cell_type": "code",
   "execution_count": null,
   "id": "d97b6429-ca67-4420-ad33-e21271dac9b3",
   "metadata": {},
   "outputs": [],
   "source": []
  }
 ],
 "metadata": {
  "kernelspec": {
   "display_name": "Python 3 (ipykernel)",
   "language": "python",
   "name": "python3"
  },
  "language_info": {
   "codemirror_mode": {
    "name": "ipython",
    "version": 3
   },
   "file_extension": ".py",
   "mimetype": "text/x-python",
   "name": "python",
   "nbconvert_exporter": "python",
   "pygments_lexer": "ipython3",
   "version": "3.9.16"
  }
 },
 "nbformat": 4,
 "nbformat_minor": 5
}
