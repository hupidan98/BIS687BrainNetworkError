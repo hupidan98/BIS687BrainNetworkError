{
 "cells": [
  {
   "cell_type": "code",
   "execution_count": 1,
   "id": "27f6ff15-0ed8-42e6-9319-a08d7cc552cc",
   "metadata": {
    "tags": []
   },
   "outputs": [],
   "source": [
    "import numpy as np\n",
    "import pickle\n",
    "import lzma\n",
    "\n",
    "import elephant.statistics as estats\n",
    "import elephant\n",
    "import neo\n",
    "from quantities import ms, s, Hz\n",
    "\n",
    "from elephant.spike_train_dissimilarity import victor_purpura_distance\n",
    "from elephant.spike_train_dissimilarity import van_rossum_distance\n",
    "\n",
    "import pandas as pd\n",
    "import matplotlib.pyplot as plt\n",
    "\n",
    "import multiprocessing\n",
    "\n"
   ]
  },
  {
   "cell_type": "code",
   "execution_count": 3,
   "id": "b08bbfa3-dd2e-46e5-a1d3-c3014200a1a8",
   "metadata": {
    "tags": []
   },
   "outputs": [],
   "source": [
    "def get_data(networktype, layercount, meandelay, stddelay, model_id, input_idx, n_run, CellType = \"point\"):\n",
    "    name = networktype + '_' + str(CellType) + '_layercount' + str(layercount) + '_model' + str(model_id) + '_input' + str(input_idx) + '_stddelay' + str(stddelay) + '_meandelay' + str(meandelay) + '_nrun' + str(n_run)\n",
    "    with lzma.open(\"./savedoutput/\" + name + \".xz\", \"rb\") as fp:\n",
    "        outsaved = pickle.load(fp)\n",
    "    return outsaved\n",
    "\n",
    "def FiletoVec(outsaved):\n",
    "    vec_space = 0.025\n",
    "    spike_mat = np.zeros((len(outsaved), int(10000/vec_space)))\n",
    "    for i in range(len(outsaved)):\n",
    "        for n in range(len(outsaved[i])):\n",
    "            j = int(outsaved[i][n]/vec_space)\n",
    "            spike_mat[i, j] = 1\n",
    "    return spike_mat\n",
    "\n",
    "def get_meanmat(networktype, layercount, meandelay, stddelay, CellType = \"point\"):\n",
    "    summet = None\n",
    "    counter = 0\n",
    "    for model_id in range(10):\n",
    "        for input_idx in range(10):\n",
    "                for n_run in range(10):\n",
    "                    outsaved = get_data(networktype, layercount, meandelay, stddelay, model_id, input_idx, n_run, CellType = \"point\")\n",
    "                    if summet == None:\n",
    "                        summet = outsaved\n",
    "                    else:\n",
    "                        summet = summet + outsaved\n",
    "                    counter += 1\n",
    "    return summet / counter\n",
    "                    \n",
    "    "
   ]
  },
  {
   "cell_type": "code",
   "execution_count": 4,
   "id": "0c475494-2458-402e-abdf-bc3e425a9a9e",
   "metadata": {
    "tags": []
   },
   "outputs": [
    {
     "ename": "TypeError",
     "evalue": "unsupported operand type(s) for /: 'list' and 'int'",
     "output_type": "error",
     "traceback": [
      "\u001b[0;31m---------------------------------------------------------------------------\u001b[0m",
      "\u001b[0;31mTypeError\u001b[0m                                 Traceback (most recent call last)",
      "Cell \u001b[0;32mIn[4], line 1\u001b[0m\n\u001b[0;32m----> 1\u001b[0m testout \u001b[38;5;241m=\u001b[39m \u001b[43mget_meanmat\u001b[49m\u001b[43m(\u001b[49m\u001b[38;5;124;43m\"\u001b[39;49m\u001b[38;5;124;43mFeedForward\u001b[39;49m\u001b[38;5;124;43m\"\u001b[39;49m\u001b[43m,\u001b[49m\u001b[43m \u001b[49m\u001b[38;5;241;43m30\u001b[39;49m\u001b[43m,\u001b[49m\u001b[43m \u001b[49m\u001b[38;5;241;43m2.2\u001b[39;49m\u001b[43m,\u001b[49m\u001b[43m \u001b[49m\u001b[38;5;241;43m0.5\u001b[39;49m\u001b[43m)\u001b[49m\n",
      "Cell \u001b[0;32mIn[3], line 28\u001b[0m, in \u001b[0;36mget_meanmat\u001b[0;34m(networktype, layercount, meandelay, stddelay, CellType)\u001b[0m\n\u001b[1;32m     26\u001b[0m                     summet \u001b[38;5;241m=\u001b[39m summet \u001b[38;5;241m+\u001b[39m outsaved\n\u001b[1;32m     27\u001b[0m                 counter \u001b[38;5;241m+\u001b[39m\u001b[38;5;241m=\u001b[39m \u001b[38;5;241m1\u001b[39m\n\u001b[0;32m---> 28\u001b[0m \u001b[38;5;28;01mreturn\u001b[39;00m \u001b[43msummet\u001b[49m\u001b[43m \u001b[49m\u001b[38;5;241;43m/\u001b[39;49m\u001b[43m \u001b[49m\u001b[43mcounter\u001b[49m\n",
      "\u001b[0;31mTypeError\u001b[0m: unsupported operand type(s) for /: 'list' and 'int'"
     ]
    }
   ],
   "source": [
    "testout = get_meanmat(\"FeedForward\", 30, 2.2, 0.5)"
   ]
  },
  {
   "cell_type": "code",
   "execution_count": null,
   "id": "8f90713e-4798-4389-82a8-c77c35e09edf",
   "metadata": {},
   "outputs": [],
   "source": []
  }
 ],
 "metadata": {
  "kernelspec": {
   "display_name": "Python 3 (ipykernel)",
   "language": "python",
   "name": "python3"
  },
  "language_info": {
   "codemirror_mode": {
    "name": "ipython",
    "version": 3
   },
   "file_extension": ".py",
   "mimetype": "text/x-python",
   "name": "python",
   "nbconvert_exporter": "python",
   "pygments_lexer": "ipython3",
   "version": "3.11.0"
  }
 },
 "nbformat": 4,
 "nbformat_minor": 5
}
