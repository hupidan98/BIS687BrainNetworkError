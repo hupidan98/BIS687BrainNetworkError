{
 "cells": [
  {
   "cell_type": "code",
   "execution_count": 5,
   "id": "a086bdbf-2ac2-49d3-b910-0a1662d6f6ab",
   "metadata": {},
   "outputs": [],
   "source": [
    "import numpy as np\n",
    "import pickle\n",
    "import lzma\n",
    "\n",
    "import elephant.statistics as estats\n",
    "import elephant\n",
    "import neo\n",
    "from quantities import ms, s, Hz\n",
    "\n",
    "from elephant.spike_train_dissimilarity import victor_purpura_distance\n",
    "from elephant.spike_train_dissimilarity import van_rossum_distance\n",
    "\n",
    "import pandas as pd\n",
    "import matplotlib.pyplot as plt\n",
    "\n",
    "import multiprocessing\n",
    "\n"
   ]
  },
  {
   "cell_type": "code",
   "execution_count": 6,
   "id": "3dc44850-562e-496b-b334-3e56554e40a8",
   "metadata": {},
   "outputs": [],
   "source": [
    "\n",
    "def get_vpdist(networktype, layercount, meandelay, stddelay, model_id, input_idx, n_run, CellType = \"point\"):\n",
    "    name = networktype + '_' + str(CellType) + '_layercount' + str(layercount) + '_model' + str(model_id) + '_input' + str(input_idx) + '_stddelay' + str(stddelay) + '_meandelay' + str(meandelay) + '_nrun' + str(n_run)\n",
    "    with lzma.open(\"./VP_every/\" + name + \"_vp.xz\", \"rb\") as fp:\n",
    "          outsaved = pickle.load(fp)\n",
    "    return outsaved\n",
    "        \n",
    "def get_vrdist(networktype, layercount, meandelay, stddelay, model_id, input_idx, n_run, CellType = \"point\"):\n",
    "    name = networktype + '_' + str(CellType) + '_layercount' + str(layercount) + '_model' + str(model_id) + '_input' + str(input_idx) + '_stddelay' + str(stddelay) + '_meandelay' + str(meandelay) + '_nrun' + str(n_run)\n",
    "    with lzma.open(\"./VR_every/\" + name + \"_vr.xz\", \"rb\") as fp:\n",
    "          outsaved = pickle.load(fp)\n",
    "    return outsaved\n"
   ]
  },
  {
   "cell_type": "code",
   "execution_count": 7,
   "id": "aa2ef75b-64a2-4048-8868-6aae6144058d",
   "metadata": {},
   "outputs": [],
   "source": [
    "networktype = 'FeedForward'\n",
    "CellType = 'point'\n",
    "\n",
    "std_delay_lst = []\n",
    "for stdDelay_noround in np.arange(0.1, 1.01, 0.1):\n",
    "    stdDelay = np.round(stdDelay_noround,2)\n",
    "    std_delay_lst.append(stdDelay)\n",
    "\n",
    "mean_delay_lst = []\n",
    "for MeanDelay_noround in np.arange(2, 3.01, 0.2):\n",
    "    MeanDelay = np.round(MeanDelay_noround,1)\n",
    "    mean_delay_lst.append(MeanDelay)\n",
    "\n"
   ]
  },
  {
   "cell_type": "code",
   "execution_count": 4,
   "id": "5854a85e-3dfe-47c9-b5aa-2d569b8328b4",
   "metadata": {},
   "outputs": [
    {
     "ename": "NameError",
     "evalue": "name 'mean_delay_lst' is not defined",
     "output_type": "error",
     "traceback": [
      "\u001b[0;31m---------------------------------------------------------------------------\u001b[0m",
      "\u001b[0;31mNameError\u001b[0m                                 Traceback (most recent call last)",
      "Cell \u001b[0;32mIn[4], line 3\u001b[0m\n\u001b[1;32m      1\u001b[0m alloutsaved \u001b[38;5;241m=\u001b[39m []\n\u001b[1;32m      2\u001b[0m \u001b[38;5;28;01mfor\u001b[39;00m layercount \u001b[38;5;129;01min\u001b[39;00m [\u001b[38;5;241m30\u001b[39m, \u001b[38;5;241m40\u001b[39m, \u001b[38;5;241m50\u001b[39m, \u001b[38;5;241m60\u001b[39m]:\n\u001b[0;32m----> 3\u001b[0m     \u001b[38;5;28;01mfor\u001b[39;00m MeanDelay \u001b[38;5;129;01min\u001b[39;00m \u001b[43mmean_delay_lst\u001b[49m:\n\u001b[1;32m      4\u001b[0m         \u001b[38;5;28;01mfor\u001b[39;00m stddelay \u001b[38;5;129;01min\u001b[39;00m std_delay_lst:\n\u001b[1;32m      5\u001b[0m             \u001b[38;5;28;01mfor\u001b[39;00m modelid \u001b[38;5;129;01min\u001b[39;00m \u001b[38;5;28mrange\u001b[39m(\u001b[38;5;241m10\u001b[39m):\n",
      "\u001b[0;31mNameError\u001b[0m: name 'mean_delay_lst' is not defined"
     ]
    }
   ],
   "source": [
    "alloutsaved = []\n",
    "for layercount in [30, 40, 50, 60]:\n",
    "    for MeanDelay in mean_delay_lst:\n",
    "        for stddelay in std_delay_lst:\n",
    "            for modelid in range(10):\n",
    "                for inputid in range(10):\n",
    "                    for nrun in range(10):    \n",
    "                        outsaved = pd.DataFrame(get_vpdist(networktype, layercount, MeanDelay, stddelay, modelid, inputid, nrun, CellType))\n",
    "                        outsaved.columns = {'avgVP', 'SpikeCountatBase', 'Layer#'}\n",
    "                        outsaved['layercount'] = layercount\n",
    "                        outsaved['stddelay'] = stddelay\n",
    "                        outsaved['MeanDelay'] = MeanDelay\n",
    "                        outsaved['modelid'] = modelid\n",
    "                        outsaved['inputid'] = inputid\n",
    "                        outsaved['nrun'] = nrun\n",
    "                        alloutsaved.append(outsaved)\n",
    "                        \n",
    "combined_df = pd.concat(alloutsaved, axis=0, ignore_index=True)"
   ]
  },
  {
   "cell_type": "code",
   "execution_count": 9,
   "id": "498b8057-ddc6-4f04-b485-f33357b442fc",
   "metadata": {},
   "outputs": [
    {
     "ename": "NameError",
     "evalue": "name 'modelid' is not defined",
     "output_type": "error",
     "traceback": [
      "\u001b[0;31m---------------------------------------------------------------------------\u001b[0m",
      "\u001b[0;31mNameError\u001b[0m                                 Traceback (most recent call last)",
      "Cell \u001b[0;32mIn[9], line 1\u001b[0m\n\u001b[0;32m----> 1\u001b[0m get_vpdist(networktype, \u001b[38;5;241m60\u001b[39m, mean_delay_lst[\u001b[38;5;241m5\u001b[39m], std_delay_lst[\u001b[38;5;241m5\u001b[39m], \u001b[43mmodelid\u001b[49m, inputid, nrun, CellType)\n",
      "\u001b[0;31mNameError\u001b[0m: name 'modelid' is not defined"
     ]
    }
   ],
   "source": [
    "get_vpdist(networktype, 60, mean_delay_lst[5], std_delay_lst[5], modelid, inputid, nrun, CellType)"
   ]
  },
  {
   "cell_type": "code",
   "execution_count": null,
   "id": "7049da85-97e8-4358-a403-227e4a51bf16",
   "metadata": {},
   "outputs": [],
   "source": []
  }
 ],
 "metadata": {
  "kernelspec": {
   "display_name": "Python 3 (ipykernel)",
   "language": "python",
   "name": "python3"
  },
  "language_info": {
   "codemirror_mode": {
    "name": "ipython",
    "version": 3
   },
   "file_extension": ".py",
   "mimetype": "text/x-python",
   "name": "python",
   "nbconvert_exporter": "python",
   "pygments_lexer": "ipython3",
   "version": "3.11.0"
  }
 },
 "nbformat": 4,
 "nbformat_minor": 5
}
