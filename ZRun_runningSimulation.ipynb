{
 "cells": [
  {
   "cell_type": "code",
   "execution_count": 1,
   "id": "93691be6-07ed-4b13-9058-7bd5464a14ca",
   "metadata": {},
   "outputs": [],
   "source": [
    "import numpy as np\n",
    "from numpy.random import default_rng\n",
    "import random\n",
    "import RunningFFnetwork\n",
    "import ConnectionMapGen\n",
    "import pickle\n",
    "from multiprocessing import Pool\n",
    "\n"
   ]
  },
  {
   "cell_type": "code",
   "execution_count": 2,
   "id": "02c935b7-c736-4dcc-86ce-b1fa448771e5",
   "metadata": {},
   "outputs": [],
   "source": [
    "# import pickle\n",
    "# import RunningFFnetwork\n",
    "# import numpy as np\n",
    "\n",
    "\n",
    "# counter = 0\n",
    "# starting_counter = 0\n",
    "# for nlevel in (np.arange(1, 10)):\n",
    "#     for n in (np.arange(30, 41, 5)):\n",
    "#         for MeanDelay_noround in (np.arange(2, 3.01, 0.2)):\n",
    "#             MeanDelay = np.round(MeanDelay_noround,1)\n",
    "#             with open('./params/' + str(nlevel) + '_' + str(n) + '_' + str(MeanDelay) + '_running_params.pkl', 'rb') as inp:\n",
    "#                 param_list_1 = pickle.load(inp)\n",
    "#                 print(counter, counter + len(param_list_1), str(nlevel) + '_' + str(n) + '_' + str(MeanDelay))\n",
    "#                 if counter > (starting_counter - len(param_list_1)):\n",
    "#                     with Pool(4) as p:\n",
    "#                             p.map(RunningFFnetwork.runingFFnetowrk_singalparam, (param_list_1))\n",
    "#                 counter += len(param_list_1)\n",
    "                 \n",
    "#                 # for i in range(int(len(param_list_1)/20)):\n",
    "#                 #     with Pool() as p:1\n",
    "#                 #         p.map(RunningFFnetwork.runingFFnetowrk_singalparam, param_list_1[20 * i:min(len(param_list_1), 20 * (i+1))])s"
   ]
  },
  {
   "cell_type": "code",
   "execution_count": null,
   "id": "4d80beca-5166-4ab3-82c7-e93de83824db",
   "metadata": {},
   "outputs": [
    {
     "name": "stdout",
     "output_type": "stream",
     "text": [
      "0 1260 30_0_0\n"
     ]
    }
   ],
   "source": [
    "import pickle\n",
    "import RunningFFnetwork_new\n",
    "import numpy as np\n",
    "\n",
    "\n",
    "counter = 0\n",
    "starting_counter = 0\n",
    "\n",
    "for n in np.arange(30, 61, 10):\n",
    "    for model_id in range(10):\n",
    "        for input_idx in range(10):\n",
    "             with open( './params_ff/'+\"FeedForward\" + '_' + 'point' + '_layercount' + str(n) +  '_model' + str(model_id) + '_input' + str(input_idx) + '_' + 'running_params.pkl', 'rb') as inp:\n",
    "                    param_list_1 = pickle.load(inp)\n",
    "                    print(counter, counter + len(param_list_1), str(n) + '_' + str(model_id) + '_' + str(input_idx))\n",
    "                    if counter > (starting_counter - len(param_list_1)):\n",
    "                        # for prrr in param_list_1:\n",
    "                        #     RunningFFnetwork_new.runingFFnetowrk_singalparam(prrr)\n",
    "                        with Pool(1) as p:\n",
    "                            p.map(RunningFFnetwork_new.runingFFnetowrk_singalparam, (param_list_1))\n",
    "                    counter += len(param_list_1)\n",
    "    "
   ]
  },
  {
   "cell_type": "code",
   "execution_count": null,
   "id": "ac1a5317-4636-4d00-9ed7-eb87a147a61f",
   "metadata": {},
   "outputs": [],
   "source": []
  }
 ],
 "metadata": {
  "kernelspec": {
   "display_name": "Python 3 (ipykernel)",
   "language": "python",
   "name": "python3"
  },
  "language_info": {
   "codemirror_mode": {
    "name": "ipython",
    "version": 3
   },
   "file_extension": ".py",
   "mimetype": "text/x-python",
   "name": "python",
   "nbconvert_exporter": "python",
   "pygments_lexer": "ipython3",
   "version": "3.11.0"
  }
 },
 "nbformat": 4,
 "nbformat_minor": 5
}
