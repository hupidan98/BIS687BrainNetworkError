{
 "cells": [
  {
   "cell_type": "code",
   "execution_count": 34,
   "id": "582051ed-cac8-4638-954a-1e42c84b9b28",
   "metadata": {},
   "outputs": [],
   "source": [
    "import numpy as np\n",
    "import pandas as pd\n",
    "import random"
   ]
  },
  {
   "cell_type": "code",
   "execution_count": 55,
   "id": "25bc09a4-4af1-46e3-9f81-ccbecd905b76",
   "metadata": {},
   "outputs": [],
   "source": [
    "def ScaleFreeMapGen(num_node):\n",
    "    connection_map = np.zeros((num_node, num_node))\n",
    "    scale_para = 1.8\n",
    "    prob_sum = 0\n",
    "    for i in range(1, num_node+1):\n",
    "        prob_sum += 1/(i ** scale_para)\n",
    "    # for Scale Free, the probability is the inverse of # of connection\n",
    "    for i in range(num_node):\n",
    "        # Find out how many out going connection of a given node\n",
    "        rn = random.uniform(0, prob_sum)\n",
    "        num_conn = 1\n",
    "        while rn > 0:\n",
    "            rn = rn - 1/(num_conn ** scale_para)\n",
    "            num_conn += 1\n",
    "            if num_conn == num_node:\n",
    "                break\n",
    "        # Which nodes the current nodes are connected to\n",
    "        node_conn = random.sample(range(num_node), num_conn)\n",
    "        # Put the weight into the connection matrix\n",
    "        for j in node_conn:\n",
    "            # weight from distribution uniform(-0.01, 0.01), can change here later to determine distribution\n",
    "            weight = random.uniform(-0.01, 0.01)\n",
    "            connection_map[i, j-1] = weight\n",
    "    return connection_map\n",
    "            \n",
    "        \n",
    "            "
   ]
  },
  {
   "cell_type": "code",
   "execution_count": 67,
   "id": "6ac532ff-04a7-43c4-ab89-62cca55a8bb1",
   "metadata": {},
   "outputs": [
    {
     "data": {
      "text/plain": [
       "array([[0., 0., 0., ..., 0., 0., 0.],\n",
       "       [0., 0., 0., ..., 0., 0., 0.],\n",
       "       [0., 0., 0., ..., 0., 0., 0.],\n",
       "       ...,\n",
       "       [0., 0., 0., ..., 0., 0., 0.],\n",
       "       [0., 0., 0., ..., 0., 0., 0.],\n",
       "       [0., 0., 0., ..., 0., 0., 0.]])"
      ]
     },
     "execution_count": 67,
     "metadata": {},
     "output_type": "execute_result"
    }
   ],
   "source": [
    "\n",
    "output_sf = ScaleFreeMapGen(10000)\n",
    "output_sf"
   ]
  },
  {
   "cell_type": "code",
   "execution_count": 73,
   "id": "0cf018a5-9c40-4611-bdf9-11fc573af2a2",
   "metadata": {},
   "outputs": [],
   "source": [
    "def SmallWorldMapGen(num_node):\n",
    "    connection_map = np.zeros((num_node, num_node))\n",
    "    # Parameters for SmallWorld Network, can be changed later\n",
    "    N = num_node\n",
    "    m = int(np.log(num_node)) + 1 # number of neighbour\n",
    "    M = N * m\n",
    "    beta = 0.2\n",
    "    # Find out what are some connections needs to be rewired\n",
    "    num_rewireing = int(M * beta)\n",
    "    conn_rewire = random.sample(range(M), num_rewireing)\n",
    "    # Start connection, \n",
    "    counter = 0\n",
    "    for i in range(num_node):\n",
    "        for j in range(m):\n",
    "            # weight from distribution uniform(-0.01, 0.01), can change here later to determine distribution\n",
    "            weight = random.uniform(-0.01, 0.01)\n",
    "            if counter in conn_rewire:\n",
    "                #wire to a random one\n",
    "                connection_map[i, (i + random.sample(range(1, num_node), 1)[0]) % num_node] = weight\n",
    "            else:\n",
    "                connection_map[i, (i + j) % num_node] = weight\n",
    "            counter += 1\n",
    "    return connection_map\n",
    "            \n",
    "    "
   ]
  },
  {
   "cell_type": "code",
   "execution_count": 76,
   "id": "bb9376de-8faf-4610-acd8-f7bb879ff2aa",
   "metadata": {},
   "outputs": [
    {
     "data": {
      "text/plain": [
       "array([[ 0.00578687,  0.00914507,  0.00486426,  0.        ,  0.        ,\n",
       "         0.        ,  0.        ,  0.        ,  0.        ,  0.        ],\n",
       "       [ 0.        ,  0.        , -0.00759237,  0.001543  ,  0.        ,\n",
       "         0.        ,  0.        ,  0.        ,  0.00187088,  0.        ],\n",
       "       [-0.00710546,  0.        ,  0.00149326, -0.00637903,  0.        ,\n",
       "         0.        ,  0.        ,  0.        ,  0.        ,  0.        ],\n",
       "       [ 0.        ,  0.        ,  0.        ,  0.00207133, -0.00150831,\n",
       "         0.00680036,  0.        ,  0.        ,  0.        ,  0.        ],\n",
       "       [ 0.        ,  0.        ,  0.        ,  0.00674568,  0.00692445,\n",
       "         0.00188342,  0.        ,  0.        ,  0.        ,  0.        ],\n",
       "       [ 0.        ,  0.        ,  0.        ,  0.        ,  0.        ,\n",
       "         0.0026354 , -0.00488678, -0.00548993,  0.        ,  0.        ],\n",
       "       [ 0.        ,  0.        ,  0.        ,  0.        ,  0.        ,\n",
       "         0.        , -0.00578332,  0.00767828,  0.00696863,  0.        ],\n",
       "       [ 0.        ,  0.        ,  0.        ,  0.00199954,  0.        ,\n",
       "         0.        ,  0.        , -0.0097928 ,  0.00463465,  0.        ],\n",
       "       [-0.00964883,  0.        ,  0.        ,  0.        ,  0.        ,\n",
       "         0.        ,  0.        ,  0.        ,  0.00995791, -0.00024291],\n",
       "       [ 0.00892418, -0.00902419,  0.        ,  0.00467013,  0.        ,\n",
       "         0.        ,  0.        ,  0.        ,  0.        ,  0.        ]])"
      ]
     },
     "execution_count": 76,
     "metadata": {},
     "output_type": "execute_result"
    }
   ],
   "source": [
    "\n",
    "output_sm = SmallWorldMapGen(10)\n",
    "output_sm"
   ]
  },
  {
   "cell_type": "code",
   "execution_count": 106,
   "id": "bbc7bbf7-dc71-4083-99f0-7d9fd091d7a7",
   "metadata": {},
   "outputs": [],
   "source": [
    "def replaceNodewithNetwork(org_network, n, added_network):\n",
    "    out_by_n = org_network[n, :]\n",
    "    incoming_to_n = org_network[:, n]\n",
    "    dim = org_network.shape[0] + added_network.shape[0]-1\n",
    "    new_network = np.zeros((dim, dim))\n",
    "    # Relocate\n",
    "    added_dim = added_network.shape[0]\n",
    "    new_network[:n,:n] = org_network[:n,:n]\n",
    "    new_network[added_dim+n:, added_dim+n:] = org_network[n+1:, n+1:]\n",
    "    new_network[:n, added_dim+n:] = org_network[:n, n+1:]\n",
    "    new_network[added_dim+n: , :n] = org_network[n+1: , :n]\n",
    "    # Put the added_network in\n",
    "    new_network[n:added_dim+n, n:added_dim+n] = added_network\n",
    "    # Randomly put incoming and outgoing connection into the added network\n",
    "    idx = 0\n",
    "    for i in out_by_n:\n",
    "        if idx < n:\n",
    "            rn = random.sample(range(n, n + added_dim), 1)[0]\n",
    "            new_network[rn , idx] = i\n",
    "        elif idx >n:\n",
    "            rn = random.sample(range(n, n + added_dim), 1)[0]\n",
    "            new_network[rn , idx + added_dim - 1] = i\n",
    "        idx +=1\n",
    "    idx = 0\n",
    "    for i in incoming_to_n:\n",
    "        if idx < n:\n",
    "            rn = random.sample(range(n, n + added_dim), 1)[0]\n",
    "            new_network[idx , rn] = i\n",
    "        elif idx > n:\n",
    "            rn = random.sample(range(n, n + added_dim), 1)[0]\n",
    "            new_network[idx + added_dim - 1, rn] = i\n",
    "        idx +=1\n",
    "        \n",
    "    return new_network"
   ]
  },
  {
   "cell_type": "code",
   "execution_count": 107,
   "id": "d9ae0f3b-baea-4049-acb5-f50f60260bfa",
   "metadata": {},
   "outputs": [
    {
     "data": {
      "text/plain": [
       "array([[1., 1., 0., 1., 0., 1., 1., 1., 1.],\n",
       "       [1., 1., 0., 0., 1., 1., 1., 1., 1.],\n",
       "       [0., 1., 0., 0., 0., 0., 0., 0., 1.],\n",
       "       [1., 0., 0., 0., 0., 1., 0., 0., 0.],\n",
       "       [0., 0., 0., 0., 0., 0., 1., 1., 0.],\n",
       "       [1., 1., 0., 0., 1., 1., 1., 1., 1.],\n",
       "       [1., 1., 0., 0., 1., 1., 1., 1., 1.],\n",
       "       [1., 1., 0., 1., 0., 1., 1., 1., 1.],\n",
       "       [1., 1., 0., 1., 0., 1., 1., 1., 1.]])"
      ]
     },
     "execution_count": 107,
     "metadata": {},
     "output_type": "execute_result"
    }
   ],
   "source": [
    "ones = np.ones((7,7))\n",
    "zeros = np.zeros((3,3))\n",
    "replaceNodewithNetwork(ones, 2, zeros)\n"
   ]
  },
  {
   "cell_type": "code",
   "execution_count": 97,
   "id": "25b7fc96-f062-436d-b671-5ed0d46c0296",
   "metadata": {},
   "outputs": [
    {
     "data": {
      "text/plain": [
       "array([[0., 0., 0.],\n",
       "       [0., 0., 0.],\n",
       "       [0., 0., 0.]])"
      ]
     },
     "execution_count": 97,
     "metadata": {},
     "output_type": "execute_result"
    }
   ],
   "source": [
    "zeros"
   ]
  },
  {
   "cell_type": "code",
   "execution_count": null,
   "id": "09a1274f-9ef3-4b7a-979a-0d1a2cc3229c",
   "metadata": {},
   "outputs": [],
   "source": []
  }
 ],
 "metadata": {
  "kernelspec": {
   "display_name": "Python 3 (ipykernel)",
   "language": "python",
   "name": "python3"
  },
  "language_info": {
   "codemirror_mode": {
    "name": "ipython",
    "version": 3
   },
   "file_extension": ".py",
   "mimetype": "text/x-python",
   "name": "python",
   "nbconvert_exporter": "python",
   "pygments_lexer": "ipython3",
   "version": "3.9.13"
  }
 },
 "nbformat": 4,
 "nbformat_minor": 5
}
