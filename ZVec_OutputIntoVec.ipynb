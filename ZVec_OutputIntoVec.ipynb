{
 "cells": [
  {
   "cell_type": "code",
   "execution_count": 1,
   "id": "13fa16a1-075a-46e1-ba70-79c2ba9001e3",
   "metadata": {},
   "outputs": [],
   "source": [
    "import pickle\n",
    "import numpy as np"
   ]
  },
  {
   "cell_type": "code",
   "execution_count": 2,
   "id": "5a7d2e11-2d3a-4ca9-b2fc-91150b57458d",
   "metadata": {},
   "outputs": [],
   "source": [
    "name = '[70, 70, 35, 1]_point_2.0_0.0_0_0'\n",
    "def FiletoVec(name):\n",
    "    with open(\"./savedoutput/\" + name + \".pkl\", \"rb\") as fp:\n",
    "        outsaved = pickle.load(fp)\n",
    "    node_level_num = [int(_) for _ in name[1:].split(']')[0].split(',')]\n",
    "    vec_space = 0.025\n",
    "    spike_mat = np.zeros((len(outsaved), int(10000/vec_space)))\n",
    "    for i in range(len(outsaved)):\n",
    "        for n in range(len(outsaved[i])):\n",
    "            j = int(outsaved[i][n]/vec_space)\n",
    "            spike_mat[i, j] = 1\n",
    "    spike_mat_bylayer = []\n",
    "    start_idx = 0\n",
    "    end_idx = 0\n",
    "    for n in node_level_num:\n",
    "        end_idx += n\n",
    "        spike_mat_bylayer.append(spike_mat[start_idx:end_idx,:])\n",
    "        start_idx += n\n",
    "    return spike_mat, spike_mat_bylayer"
   ]
  },
  {
   "cell_type": "code",
   "execution_count": 3,
   "id": "f25224b8-7200-4e9b-8ee4-6de6a102b06a",
   "metadata": {},
   "outputs": [],
   "source": [
    "# FiletoVec(name)[0][:140, :]"
   ]
  },
  {
   "cell_type": "code",
   "execution_count": 4,
   "id": "30f70849-d587-4719-960f-2e4c1c084e11",
   "metadata": {},
   "outputs": [],
   "source": [
    "name_base = '[70, 70, 35, 1]_point_2.0_0.0_0_'\n",
    "mat_lst = []\n",
    "for i in range(10):\n",
    "    name = str(name_base + str(i))\n",
    "    output = FiletoVec(name)[0]\n",
    "    mat_lst.append(output[:140,:])\n",
    "v = np.stack(mat_lst)"
   ]
  },
  {
   "cell_type": "code",
   "execution_count": 5,
   "id": "165e03c5-7347-46b2-8163-dc255592ca31",
   "metadata": {},
   "outputs": [
    {
     "data": {
      "text/plain": [
       "(176, 400000)"
      ]
     },
     "execution_count": 5,
     "metadata": {},
     "output_type": "execute_result"
    }
   ],
   "source": [
    "output.shape"
   ]
  },
  {
   "cell_type": "code",
   "execution_count": 6,
   "id": "edcf20f0-cdd1-440c-861b-3172ebff869f",
   "metadata": {
    "tags": []
   },
   "outputs": [
    {
     "name": "stderr",
     "output_type": "stream",
     "text": [
      "                                                                                \r"
     ]
    },
    {
     "ename": "ValueError",
     "evalue": "Array with X.ndim > 2 expected.",
     "output_type": "error",
     "traceback": [
      "\u001b[0;31m---------------------------------------------------------------------------\u001b[0m",
      "\u001b[0;31mValueError\u001b[0m                                Traceback (most recent call last)",
      "Input \u001b[0;32mIn [6]\u001b[0m, in \u001b[0;36m<cell line: 7>\u001b[0;34m()\u001b[0m\n\u001b[1;32m      5\u001b[0m \u001b[38;5;66;03m# Fit an ensemble of models, 4 random replicates / optimization runs per model rank\u001b[39;00m\n\u001b[1;32m      6\u001b[0m ensemble \u001b[38;5;241m=\u001b[39m tt\u001b[38;5;241m.\u001b[39mEnsemble(fit_method\u001b[38;5;241m=\u001b[39m\u001b[38;5;124m\"\u001b[39m\u001b[38;5;124mncp_hals\u001b[39m\u001b[38;5;124m\"\u001b[39m)\n\u001b[0;32m----> 7\u001b[0m \u001b[43mensemble\u001b[49m\u001b[38;5;241;43m.\u001b[39;49m\u001b[43mfit\u001b[49m\u001b[43m(\u001b[49m\u001b[43mdata\u001b[49m\u001b[43m,\u001b[49m\u001b[43m \u001b[49m\u001b[43mranks\u001b[49m\u001b[38;5;241;43m=\u001b[39;49m\u001b[38;5;28;43mrange\u001b[39;49m\u001b[43m(\u001b[49m\u001b[38;5;241;43m1\u001b[39;49m\u001b[43m,\u001b[49m\u001b[43m \u001b[49m\u001b[38;5;241;43m9\u001b[39;49m\u001b[43m)\u001b[49m\u001b[43m,\u001b[49m\u001b[43m \u001b[49m\u001b[43mreplicates\u001b[49m\u001b[38;5;241;43m=\u001b[39;49m\u001b[38;5;241;43m4\u001b[39;49m\u001b[43m)\u001b[49m\n\u001b[1;32m      9\u001b[0m fig, axes \u001b[38;5;241m=\u001b[39m plt\u001b[38;5;241m.\u001b[39msubplots(\u001b[38;5;241m1\u001b[39m, \u001b[38;5;241m2\u001b[39m)\n\u001b[1;32m     10\u001b[0m tt\u001b[38;5;241m.\u001b[39mplot_objective(ensemble, ax\u001b[38;5;241m=\u001b[39maxes[\u001b[38;5;241m0\u001b[39m])   \u001b[38;5;66;03m# plot reconstruction error as a function of num components.\u001b[39;00m\n",
      "File \u001b[0;32m/Volumes/Crucial X6/Neuro/NetworkGeneration/tensortools/tensortools/ensemble.py:94\u001b[0m, in \u001b[0;36mEnsemble.fit\u001b[0;34m(self, X, ranks, replicates, verbose)\u001b[0m\n\u001b[1;32m     92\u001b[0m \u001b[38;5;66;03m# Fit replicates.\u001b[39;00m\n\u001b[1;32m     93\u001b[0m \u001b[38;5;28;01mfor\u001b[39;00m i \u001b[38;5;129;01min\u001b[39;00m itr:\n\u001b[0;32m---> 94\u001b[0m     model_fit \u001b[38;5;241m=\u001b[39m \u001b[38;5;28;43mself\u001b[39;49m\u001b[38;5;241;43m.\u001b[39;49m\u001b[43m_fit_method\u001b[49m\u001b[43m(\u001b[49m\u001b[43mX\u001b[49m\u001b[43m,\u001b[49m\u001b[43m \u001b[49m\u001b[43mr\u001b[49m\u001b[43m,\u001b[49m\u001b[43m \u001b[49m\u001b[38;5;241;43m*\u001b[39;49m\u001b[38;5;241;43m*\u001b[39;49m\u001b[38;5;28;43mself\u001b[39;49m\u001b[38;5;241;43m.\u001b[39;49m\u001b[43m_fit_options\u001b[49m\u001b[43m)\u001b[49m\n\u001b[1;32m     95\u001b[0m     \u001b[38;5;28mself\u001b[39m\u001b[38;5;241m.\u001b[39mresults[r]\u001b[38;5;241m.\u001b[39mappend(model_fit)\n\u001b[1;32m     97\u001b[0m \u001b[38;5;66;03m# Print summary of results.\u001b[39;00m\n",
      "File \u001b[0;32m/Volumes/Crucial X6/Neuro/NetworkGeneration/tensortools/tensortools/optimize/ncp_hals.py:103\u001b[0m, in \u001b[0;36mncp_hals\u001b[0;34m(X, rank, mask, random_state, init, skip_modes, negative_modes, **options)\u001b[0m\n\u001b[1;32m    100\u001b[0m     X[\u001b[38;5;241m~\u001b[39mmask] \u001b[38;5;241m=\u001b[39m np\u001b[38;5;241m.\u001b[39mmean(X[mask])\n\u001b[1;32m    102\u001b[0m \u001b[38;5;66;03m# Check inputs.\u001b[39;00m\n\u001b[0;32m--> 103\u001b[0m \u001b[43moptim_utils\u001b[49m\u001b[38;5;241;43m.\u001b[39;49m\u001b[43m_check_cpd_inputs\u001b[49m\u001b[43m(\u001b[49m\u001b[43mX\u001b[49m\u001b[43m,\u001b[49m\u001b[43m \u001b[49m\u001b[43mrank\u001b[49m\u001b[43m)\u001b[49m\n\u001b[1;32m    105\u001b[0m \u001b[38;5;66;03m# Initialize problem.\u001b[39;00m\n\u001b[1;32m    106\u001b[0m U, normX \u001b[38;5;241m=\u001b[39m optim_utils\u001b[38;5;241m.\u001b[39m_get_initial_ktensor(init, X, rank, random_state)\n",
      "File \u001b[0;32m/Volumes/Crucial X6/Neuro/NetworkGeneration/tensortools/tensortools/optimize/optim_utils.py:25\u001b[0m, in \u001b[0;36m_check_cpd_inputs\u001b[0;34m(X, rank)\u001b[0m\n\u001b[1;32m     11\u001b[0m \u001b[38;5;124;03m\"\"\"Checks that inputs to optimization function are appropriate.\u001b[39;00m\n\u001b[1;32m     12\u001b[0m \n\u001b[1;32m     13\u001b[0m \u001b[38;5;124;03mParameters\u001b[39;00m\n\u001b[0;32m   (...)\u001b[0m\n\u001b[1;32m     22\u001b[0m \u001b[38;5;124;03mValueError: If inputs are not suited for CP decomposition.\u001b[39;00m\n\u001b[1;32m     23\u001b[0m \u001b[38;5;124;03m\"\"\"\u001b[39;00m\n\u001b[1;32m     24\u001b[0m \u001b[38;5;28;01mif\u001b[39;00m X\u001b[38;5;241m.\u001b[39mndim \u001b[38;5;241m<\u001b[39m \u001b[38;5;241m3\u001b[39m:\n\u001b[0;32m---> 25\u001b[0m     \u001b[38;5;28;01mraise\u001b[39;00m \u001b[38;5;167;01mValueError\u001b[39;00m(\u001b[38;5;124m\"\u001b[39m\u001b[38;5;124mArray with X.ndim > 2 expected.\u001b[39m\u001b[38;5;124m\"\u001b[39m)\n\u001b[1;32m     26\u001b[0m \u001b[38;5;28;01mif\u001b[39;00m rank \u001b[38;5;241m<\u001b[39m\u001b[38;5;241m=\u001b[39m \u001b[38;5;241m0\u001b[39m \u001b[38;5;129;01mor\u001b[39;00m \u001b[38;5;129;01mnot\u001b[39;00m \u001b[38;5;28misinstance\u001b[39m(rank, \u001b[38;5;28mint\u001b[39m):\n\u001b[1;32m     27\u001b[0m     \u001b[38;5;28;01mraise\u001b[39;00m \u001b[38;5;167;01mValueError\u001b[39;00m(\u001b[38;5;124m\"\u001b[39m\u001b[38;5;124mRank is invalid.\u001b[39m\u001b[38;5;124m\"\u001b[39m)\n",
      "\u001b[0;31mValueError\u001b[0m: Array with X.ndim > 2 expected."
     ]
    }
   ],
   "source": [
    "import tensortools as tt\n",
    "\n",
    "data = output # ... specify a numpy array holding the tensor you wish to fit\n",
    "\n",
    "# Fit an ensemble of models, 4 random replicates / optimization runs per model rank\n",
    "ensemble = tt.Ensemble(fit_method=\"ncp_hals\")\n",
    "ensemble.fit(data, ranks=range(1, 9), replicates=4)\n",
    "\n",
    "fig, axes = plt.subplots(1, 2)\n",
    "tt.plot_objective(ensemble, ax=axes[0])   # plot reconstruction error as a function of num components.\n",
    "tt.plot_similarity(ensemble, ax=axes[1])  # plot model similarity as a function of num components.\n",
    "fig.tight_layout()\n",
    "\n",
    "# Plot the low-d factors for an example model, e.g. rank-2, first optimization run / replicate.\n",
    "num_components = 2\n",
    "replicate = 0\n",
    "tt.plot_factors(ensemble.factors(num_components)[replicate])  # plot the low-d factors\n",
    "\n",
    "plt.show()"
   ]
  },
  {
   "cell_type": "code",
   "execution_count": null,
   "id": "9e23ed07-877b-4395-8aa6-4ea2cea8f49a",
   "metadata": {},
   "outputs": [],
   "source": [
    "# from scipy.stats import random\n",
    "sci.__version__"
   ]
  },
  {
   "cell_type": "code",
   "execution_count": null,
   "id": "5e1d42ac-3034-476a-b10f-feb71fa38335",
   "metadata": {},
   "outputs": [],
   "source": []
  },
  {
   "cell_type": "code",
   "execution_count": null,
   "id": "415b7c23-ffbb-4617-9937-f0712f419d9c",
   "metadata": {},
   "outputs": [],
   "source": [
    "!pip install --upgrade scipy\n"
   ]
  },
  {
   "cell_type": "code",
   "execution_count": null,
   "id": "e39a194d-f962-4a6f-804a-137f07dbf7a2",
   "metadata": {},
   "outputs": [],
   "source": []
  }
 ],
 "metadata": {
  "kernelspec": {
   "display_name": "Python 3 (ipykernel)",
   "language": "python",
   "name": "python3"
  },
  "language_info": {
   "codemirror_mode": {
    "name": "ipython",
    "version": 3
   },
   "file_extension": ".py",
   "mimetype": "text/x-python",
   "name": "python",
   "nbconvert_exporter": "python",
   "pygments_lexer": "ipython3",
   "version": "3.9.13"
  }
 },
 "nbformat": 4,
 "nbformat_minor": 5
}
