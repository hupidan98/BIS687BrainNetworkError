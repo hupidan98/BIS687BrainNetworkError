{
 "cells": [
  {
   "cell_type": "code",
   "execution_count": 14,
   "id": "025fc83f-9590-4929-9f39-41e6ea63011f",
   "metadata": {},
   "outputs": [],
   "source": [
    "import numpy as np\n",
    "import pickle\n",
    "import lzma\n",
    "from scipy import signal\n",
    "import scipy\n",
    "\n",
    "import elephant.statistics as estats\n",
    "import elephant\n",
    "import neo\n",
    "from quantities import ms, s, Hz\n",
    "\n",
    "from elephant.spike_train_dissimilarity import victor_purpura_distance\n",
    "from elephant.spike_train_dissimilarity import van_rossum_distance\n",
    "\n",
    "import pandas as pd\n",
    "import matplotlib.pyplot as plt\n",
    "\n",
    "import multiprocessing\n"
   ]
  },
  {
   "cell_type": "code",
   "execution_count": 37,
   "id": "0097dc47-d5c3-45a7-aba4-0fce1f1ae51a",
   "metadata": {},
   "outputs": [],
   "source": [
    "def get_data(networktype, layercount, meandelay, stddelay, model_id, input_idx, n_run, CellType = \"point\"):\n",
    "    name = networktype + '_' + str(CellType) + '_layercount' + str(layercount) + '_model' + str(model_id) + '_input' + str(input_idx) + '_stddelay' + str(stddelay) + '_meandelay' + str(meandelay) + '_nrun' + str(n_run)\n",
    "    with lzma.open(\"./savedoutput/\" + name + \".xz\", \"rb\") as fp:\n",
    "        outsaved = pickle.load(fp)\n",
    "    return outsaved\n",
    "\n",
    "\n",
    "sigma_my = 1 / 0.025\n",
    "kernel_size_my = int(sigma_my) * 5 * 2 + 1\n",
    "vec_space = 0.025\n",
    "def spiketovec(spike):\n",
    "    vec_space = 0.025\n",
    "    spike_vec = np.zeros(int(10000/vec_space))\n",
    "    for i in range(len(spike)):\n",
    "        j = int(spike[i]/vec_space)\n",
    "        spike_vec[j] = 1\n",
    "    return spike_vec\n",
    "    \n",
    "\n",
    "def add_gaussian_kernel(input_vector, kernel_size, sigma):\n",
    "\n",
    "    # Define the Gaussian kernel\n",
    "    kernel = scipy.signal.gaussian(kernel_size, sigma)\n",
    "    \n",
    "    # Initialize the result vector with zeros as floating-point numbers\n",
    "    result_vector = np.zeros(len(input_vector), dtype=float)\n",
    "    \n",
    "    # Iterate through the input vector\n",
    "    for i, value in enumerate(input_vector):\n",
    "        if value == 1.0:\n",
    "            # Add the Gaussian kernel to the result vector centered around the current index\n",
    "            start_idx = max(0, i - (kernel_size // 2))\n",
    "            end_idx = min(len(input_vector), i + (kernel_size // 2) + 1)\n",
    "            result_vector[start_idx:end_idx] += kernel[\n",
    "                (kernel_size // 2) - (i - start_idx) : (kernel_size // 2) + (end_idx - i)\n",
    "            ]\n",
    "    \n",
    "    return result_vector\n",
    "\n",
    "def get_coherence(baseline, distrubed, qnum):\n",
    "    \n",
    "    \n",
    "    return vp_dist/len(baseline), len(baseline)"
   ]
  },
  {
   "cell_type": "code",
   "execution_count": 38,
   "id": "9fc4e4b1-6f66-4625-9e39-1ad387ee2f66",
   "metadata": {},
   "outputs": [],
   "source": [
    "dataorg = get_data('SmallWorld', 200, 3.0, 0.0, 5, 5, 0)\n",
    "datadist = get_data('SmallWorld', 200, 3.0, 0.4, 6, 5, 2)"
   ]
  },
  {
   "cell_type": "code",
   "execution_count": 39,
   "id": "826a0fa2-6dea-4119-a8a4-874158bd1bee",
   "metadata": {},
   "outputs": [
    {
     "data": {
      "text/plain": [
       "array([0., 0., 0., ..., 0., 0., 0.])"
      ]
     },
     "execution_count": 39,
     "metadata": {},
     "output_type": "execute_result"
    }
   ],
   "source": [
    "add_gaussian_kernel(spiketovec(datadist[0]), kernel_size_my, sigma_my)"
   ]
  },
  {
   "cell_type": "code",
   "execution_count": 40,
   "id": "2e792829-9df4-4f27-9a48-4ed923c62c6b",
   "metadata": {},
   "outputs": [
    {
     "data": {
      "text/plain": [
       "(array([    0.  ,   156.25,   312.5 ,   468.75,   625.  ,   781.25,\n",
       "          937.5 ,  1093.75,  1250.  ,  1406.25,  1562.5 ,  1718.75,\n",
       "         1875.  ,  2031.25,  2187.5 ,  2343.75,  2500.  ,  2656.25,\n",
       "         2812.5 ,  2968.75,  3125.  ,  3281.25,  3437.5 ,  3593.75,\n",
       "         3750.  ,  3906.25,  4062.5 ,  4218.75,  4375.  ,  4531.25,\n",
       "         4687.5 ,  4843.75,  5000.  ,  5156.25,  5312.5 ,  5468.75,\n",
       "         5625.  ,  5781.25,  5937.5 ,  6093.75,  6250.  ,  6406.25,\n",
       "         6562.5 ,  6718.75,  6875.  ,  7031.25,  7187.5 ,  7343.75,\n",
       "         7500.  ,  7656.25,  7812.5 ,  7968.75,  8125.  ,  8281.25,\n",
       "         8437.5 ,  8593.75,  8750.  ,  8906.25,  9062.5 ,  9218.75,\n",
       "         9375.  ,  9531.25,  9687.5 ,  9843.75, 10000.  , 10156.25,\n",
       "        10312.5 , 10468.75, 10625.  , 10781.25, 10937.5 , 11093.75,\n",
       "        11250.  , 11406.25, 11562.5 , 11718.75, 11875.  , 12031.25,\n",
       "        12187.5 , 12343.75, 12500.  , 12656.25, 12812.5 , 12968.75,\n",
       "        13125.  , 13281.25, 13437.5 , 13593.75, 13750.  , 13906.25,\n",
       "        14062.5 , 14218.75, 14375.  , 14531.25, 14687.5 , 14843.75,\n",
       "        15000.  , 15156.25, 15312.5 , 15468.75, 15625.  , 15781.25,\n",
       "        15937.5 , 16093.75, 16250.  , 16406.25, 16562.5 , 16718.75,\n",
       "        16875.  , 17031.25, 17187.5 , 17343.75, 17500.  , 17656.25,\n",
       "        17812.5 , 17968.75, 18125.  , 18281.25, 18437.5 , 18593.75,\n",
       "        18750.  , 18906.25, 19062.5 , 19218.75, 19375.  , 19531.25,\n",
       "        19687.5 , 19843.75, 20000.  ]),\n",
       " array([1., 1., 1., 1., 1., 1., 1., 1., 1., 1., 1., 1., 1., 1., 1., 1., 1.,\n",
       "        1., 1., 1., 1., 1., 1., 1., 1., 1., 1., 1., 1., 1., 1., 1., 1., 1.,\n",
       "        1., 1., 1., 1., 1., 1., 1., 1., 1., 1., 1., 1., 1., 1., 1., 1., 1.,\n",
       "        1., 1., 1., 1., 1., 1., 1., 1., 1., 1., 1., 1., 1., 1., 1., 1., 1.,\n",
       "        1., 1., 1., 1., 1., 1., 1., 1., 1., 1., 1., 1., 1., 1., 1., 1., 1.,\n",
       "        1., 1., 1., 1., 1., 1., 1., 1., 1., 1., 1., 1., 1., 1., 1., 1., 1.,\n",
       "        1., 1., 1., 1., 1., 1., 1., 1., 1., 1., 1., 1., 1., 1., 1., 1., 1.,\n",
       "        1., 1., 1., 1., 1., 1., 1., 1., 1., 1.]))"
      ]
     },
     "execution_count": 40,
     "metadata": {},
     "output_type": "execute_result"
    }
   ],
   "source": [
    "scipy.signal.coherence(add_gaussian_kernel(spiketovec(datadist[0]), kernel_size_my, sigma_my), add_gaussian_kernel(spiketovec(datadist[0]), kernel_size_my, sigma_my), fs =1000/vec_space )"
   ]
  },
  {
   "cell_type": "code",
   "execution_count": null,
   "id": "1fc84d45-db9f-44eb-a123-ac1d7006a069",
   "metadata": {},
   "outputs": [],
   "source": [
    "add_gaussian_kernel(datadist[0], kernel_size_my, sigma_my)"
   ]
  }
 ],
 "metadata": {
  "kernelspec": {
   "display_name": "Python 3 (ipykernel)",
   "language": "python",
   "name": "python3"
  },
  "language_info": {
   "codemirror_mode": {
    "name": "ipython",
    "version": 3
   },
   "file_extension": ".py",
   "mimetype": "text/x-python",
   "name": "python",
   "nbconvert_exporter": "python",
   "pygments_lexer": "ipython3",
   "version": "3.11.0"
  }
 },
 "nbformat": 4,
 "nbformat_minor": 5
}
