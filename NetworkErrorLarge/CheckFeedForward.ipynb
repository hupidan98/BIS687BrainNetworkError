{
 "cells": [
  {
   "cell_type": "code",
   "execution_count": 1,
   "id": "33bcbb2c-2d1b-45ae-92e4-e3727bfa91d7",
   "metadata": {},
   "outputs": [],
   "source": [
    "import numpy as np\n",
    "import pickle\n",
    "import lzma\n",
    "import pandas as pd\n",
    "import matplotlib.pyplot as plt"
   ]
  },
  {
   "cell_type": "code",
   "execution_count": 2,
   "id": "98f93684-94d8-45ad-9282-397e70fb6c88",
   "metadata": {},
   "outputs": [],
   "source": [
    "def get_data(networktype, layercount, meandelay, stddelay, model_id, input_idx, n_run, CellType = \"point\"):\n",
    "    name = networktype + '_' + str(CellType) + '_layercount' + str(layercount) + '_model' + str(model_id) + '_input' + str(input_idx) + '_stddelay' + str(stddelay) + '_meandelay' + str(meandelay) + '_nrun' + str(n_run)\n",
    "    with lzma.open(\"./savedoutput/\" + name + \".xz\", \"rb\") as fp:\n",
    "        outsaved = pickle.load(fp)\n",
    "    return outsaved"
   ]
  },
  {
   "cell_type": "code",
   "execution_count": 4,
   "id": "105f9658-de32-435a-a35d-49186249776f",
   "metadata": {},
   "outputs": [
    {
     "name": "stdout",
     "output_type": "stream",
     "text": [
      "An error occurred: Compressed file ended before the end-of-stream marker was reached\n",
      "FeedForward 200 3.0 0.4 5 9 5\n"
     ]
    }
   ],
   "source": [
    "for networktype in ['FeedForward', 'ScaleFree', 'SmallWorld']:\n",
    "    for layercount in [200]:\n",
    "        for MeanDelay_noround in np.arange(3, 3.01, 0.2):\n",
    "            MeanDelay = np.round(MeanDelay_noround,1)\n",
    "            for stdDelay_noround in np.arange(0, 1.01, 0.05):\n",
    "                stdDelay = np.round(stdDelay_noround,2)\n",
    "                for model_id in np.arange(0, 10, 1):\n",
    "                    for input_idx in range(10):\n",
    "                        for n_run in np.arange(0, 10, 1):\n",
    "                            try:\n",
    "                                get_data(networktype, layercount, MeanDelay, stdDelay, model_id, input_idx, n_run, CellType = \"point\")\n",
    "                            except Exception as e:\n",
    "                                print(\"An error occurred: \" + str(e))\n",
    "                                print(networktype, layercount, MeanDelay, stdDelay, model_id, input_idx, n_run)"
   ]
  },
  {
   "cell_type": "code",
   "execution_count": null,
   "id": "7f1235cf-506a-4311-8d54-4951d279be5e",
   "metadata": {},
   "outputs": [],
   "source": [
    "print('done')"
   ]
  },
  {
   "cell_type": "code",
   "execution_count": null,
   "id": "1e364b37-24c0-4bbe-8bdc-68f4315cf1f5",
   "metadata": {},
   "outputs": [],
   "source": [
    "for networktype in ['FeedForward', 'ScaleFree', 'SmallWorld']:\n",
    "    for layercount in [200]:\n",
    "        for MeanDelay_noround in np.arange(3, 3.01, 0.2):\n",
    "            MeanDelay = np.round(MeanDelay_noround,1)\n",
    "            for stdDelay_noround in np.arange(0, 1.01, 0.05):\n",
    "                stdDelay = np.round(stdDelay_noround,2)\n",
    "                for model_id in [5]:\n",
    "                    for input_idx [9]:\n",
    "                        for n_run in [5]:\n",
    "                            try:\n",
    "                                get_data(networktype, layercount, MeanDelay, stdDelay, model_id, input_idx, n_run, CellType = \"point\")\n",
    "                            except Exception as e:\n",
    "                                print(\"An error occurred: \" + str(e))\n",
    "                                print(networktype, layercount, MeanDelay, stdDelay, model_id, input_idx, n_run)"
   ]
  },
  {
   "cell_type": "code",
   "execution_count": null,
   "id": "5018601c-4fff-4fae-b805-1934a0dc0685",
   "metadata": {},
   "outputs": [],
   "source": []
  }
 ],
 "metadata": {
  "kernelspec": {
   "display_name": "Python 3 (ipykernel)",
   "language": "python",
   "name": "python3"
  },
  "language_info": {
   "codemirror_mode": {
    "name": "ipython",
    "version": 3
   },
   "file_extension": ".py",
   "mimetype": "text/x-python",
   "name": "python",
   "nbconvert_exporter": "python",
   "pygments_lexer": "ipython3",
   "version": "3.11.0"
  }
 },
 "nbformat": 4,
 "nbformat_minor": 5
}
