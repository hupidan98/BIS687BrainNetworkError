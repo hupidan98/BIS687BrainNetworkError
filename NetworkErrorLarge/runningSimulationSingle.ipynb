{
 "cells": [
  {
   "cell_type": "code",
   "execution_count": 6,
   "id": "fe8abc14-c3b9-4a59-9f47-e75e20307e71",
   "metadata": {},
   "outputs": [],
   "source": [
    "import numpy as np\n",
    "import RunningFFnetwork\n",
    "import numpy as np\n",
    "import pickle"
   ]
  },
  {
   "cell_type": "code",
   "execution_count": 7,
   "id": "db580192-d2e4-48bd-9815-db35affdfeb8",
   "metadata": {},
   "outputs": [],
   "source": [
    "# print(networktype, layercount, MeanDelay, stdDelay, model_id, input_idx, n_run)\n",
    "# FeedForward 200 3.0 0.4 5 9 5\n",
    "netname = 'FeedForward'\n",
    "n = 200\n",
    "\n",
    "model_id = 5\n",
    "input_idx = 9\n",
    "\n",
    "MeanDelay = 3.0\n",
    "stdDelay = 0.4\n",
    "\n",
    "n_run = 5"
   ]
  },
  {
   "cell_type": "code",
   "execution_count": 8,
   "id": "29d6c35f-a671-4b56-952a-739516fdae6b",
   "metadata": {},
   "outputs": [],
   "source": [
    "with open( './params/'+ netname + '_' + 'point' + '_layercount' + str(n) +  '_model' + str(model_id) + '_input' + str(input_idx) + '_' + 'running_params.pkl', 'rb') as inp:\n",
    "    param_list_1 = pickle.load(inp)"
   ]
  },
  {
   "cell_type": "code",
   "execution_count": 17,
   "id": "c1afe557-ce23-40f4-9d0d-d676709701bd",
   "metadata": {},
   "outputs": [],
   "source": [
    "for i in range(len(param_list_1)):\n",
    "    if (param_list_1[i]['n_run'] == n_run) & (param_list_1[i]['MeanDelay'] == MeanDelay) & (param_list_1[i]['stdDelay'] == stdDelay):\n",
    "        paraneed = param_list_1[i]"
   ]
  },
  {
   "cell_type": "code",
   "execution_count": null,
   "id": "6be3b4cb-67af-4871-9e08-3078b6996665",
   "metadata": {},
   "outputs": [],
   "source": [
    "paraneed"
   ]
  },
  {
   "cell_type": "code",
   "execution_count": 19,
   "id": "54b5f7cb-f420-432f-b504-7441607f977b",
   "metadata": {},
   "outputs": [
    {
     "name": "stderr",
     "output_type": "stream",
     "text": [
      "Warning: no DISPLAY environment variable.\n",
      "--No graphics will be displayed.\n",
      "IOStream.flush timed out\n"
     ]
    },
    {
     "data": {
      "text/plain": [
       "0"
      ]
     },
     "execution_count": 19,
     "metadata": {},
     "output_type": "execute_result"
    }
   ],
   "source": [
    "RunningFFnetwork.runingFFnetowrk_singalparam(paraneed)"
   ]
  },
  {
   "cell_type": "code",
   "execution_count": null,
   "id": "94cc03c9-60ec-4729-a6c5-23e719f1d5d1",
   "metadata": {},
   "outputs": [],
   "source": []
  }
 ],
 "metadata": {
  "kernelspec": {
   "display_name": "Python 3 (ipykernel)",
   "language": "python",
   "name": "python3"
  },
  "language_info": {
   "codemirror_mode": {
    "name": "ipython",
    "version": 3
   },
   "file_extension": ".py",
   "mimetype": "text/x-python",
   "name": "python",
   "nbconvert_exporter": "python",
   "pygments_lexer": "ipython3",
   "version": "3.11.0"
  }
 },
 "nbformat": 4,
 "nbformat_minor": 5
}
