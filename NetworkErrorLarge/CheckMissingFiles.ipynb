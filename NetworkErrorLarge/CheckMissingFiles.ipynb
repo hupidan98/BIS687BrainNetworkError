{
 "cells": [
  {
   "cell_type": "code",
   "execution_count": 8,
   "id": "90106a01-98ed-4174-9ba8-41d8c1cfa8d3",
   "metadata": {},
   "outputs": [],
   "source": [
    "def check_completed_jobs():\n",
    "    try:\n",
    "        with open('./counter/ZCal_Cal_Spectral.txt', 'r') as f:\n",
    "            lines = f.readlines()\n",
    "            completed_jobs = [line.strip() for line in lines if 'Completed job index' in line]\n",
    "            # print('Completed Jobs:', completed_jobs)\n",
    "            return completed_jobs\n",
    "    except FileNotFoundError:\n",
    "        print('No job has been completed yet.')"
   ]
  },
  {
   "cell_type": "code",
   "execution_count": 9,
   "id": "f1b1adf5-fd3f-4da0-815a-5df0f25d807f",
   "metadata": {},
   "outputs": [
    {
     "name": "stdout",
     "output_type": "stream",
     "text": [
      "Missing job indexes: []\n"
     ]
    }
   ],
   "source": [
    "job_indexes = check_completed_jobs()\n",
    "\n",
    "# Extracting the numbers from each string\n",
    "extracted_numbers = [int(s.split(': ')[1]) for s in job_indexes]\n",
    "\n",
    "# All possible job indexes from 0 to 4299\n",
    "all_indexes = set(range(4300))\n",
    "\n",
    "# Finding the missing numbers by comparing to the set of extracted numbers\n",
    "missing_numbers = sorted(all_indexes - set(extracted_numbers))\n",
    "\n",
    "print(\"Missing job indexes:\", missing_numbers)"
   ]
  },
  {
   "cell_type": "code",
   "execution_count": null,
   "id": "acd089fd-e533-4b66-a41c-39394fb6a543",
   "metadata": {},
   "outputs": [],
   "source": []
  }
 ],
 "metadata": {
  "kernelspec": {
   "display_name": "Python 3 (ipykernel)",
   "language": "python",
   "name": "python3"
  },
  "language_info": {
   "codemirror_mode": {
    "name": "ipython",
    "version": 3
   },
   "file_extension": ".py",
   "mimetype": "text/x-python",
   "name": "python",
   "nbconvert_exporter": "python",
   "pygments_lexer": "ipython3",
   "version": "3.11.0"
  }
 },
 "nbformat": 4,
 "nbformat_minor": 5
}
