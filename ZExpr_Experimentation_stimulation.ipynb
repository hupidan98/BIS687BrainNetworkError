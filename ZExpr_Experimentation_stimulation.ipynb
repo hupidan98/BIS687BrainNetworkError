{
 "cells": [
  {
   "cell_type": "code",
   "execution_count": 12,
   "id": "3a8cf540-c45e-4523-9284-4397589c3aa9",
   "metadata": {},
   "outputs": [],
   "source": [
    "from numpy.random import default_rng\n",
    "import random\n",
    "from neuron import h, gui\n",
    "from neuron.units import ms, mV\n",
    "\n",
    "\n",
    "rng = default_rng()\n",
    "\n",
    "def poisson_process(start: float, max_t: float, avg_interval: float) -> list:\n",
    "    t = start\n",
    "    events = []\n",
    "    while t < max_t:\n",
    "        t += rng.exponential(avg_interval)\n",
    "        events.append(t)\n",
    "    # discard the last event, as it exceeds max_t\n",
    "    if events:\n",
    "        events = events[:-1]\n",
    "    return events\n",
    "\n",
    "def poisson_process_n(interval, n):\n",
    "    interspikes = [random.expovariate(1. / interval) for _ in range(n)]\n",
    "    t = 0\n",
    "    times = []\n",
    "    for interspike in interspikes:\n",
    "        t += interspike\n",
    "        times.append(t)\n",
    "    return times\n",
    "\n",
    "def poisson_process_duration(interval, duration):\n",
    "    t = random.expovariate(1. / interval)\n",
    "    times = []\n",
    "    while t < duration:\n",
    "        times.append(t)\n",
    "        t += random.expovariate(1. / interval)\n",
    "    return times\n",
    "\n",
    "T_STOP = 100\n",
    "\n",
    "e_stims = poisson_process(0, T_STOP, 5 * ms)\n",
    "i_stims = poisson_process(0, T_STOP, 10 * ms)\n",
    "testn = poisson_process_n(T_STOP, 10)\n",
    "testsdu = poisson_process_duration(10*ms, T_STOP)\n",
    "\n",
    "\n",
    "# example usage; assumes a cell object has been created; see below for add_custom_stimulus\n",
    "# cell.add_custom_stimulus(e_stims, 0 * mV, 0.00025, 2 * ms)\n",
    "# cell.add_custom_stimulus(i_stims, -80 * mV, 0.0005, 7.5 * ms)\n"
   ]
  },
  {
   "cell_type": "code",
   "execution_count": 14,
   "id": "7113aeda-bb23-44b7-a602-ffe986a5ae29",
   "metadata": {},
   "outputs": [
    {
     "data": {
      "text/plain": [
       "[16.464246677106782,\n",
       " 36.339797438692266,\n",
       " 42.1102040869965,\n",
       " 44.97174822588503,\n",
       " 50.93166294285691,\n",
       " 56.48366709624702,\n",
       " 57.542649601337025,\n",
       " 90.93914864842064,\n",
       " 94.68256660625313]"
      ]
     },
     "execution_count": 14,
     "metadata": {},
     "output_type": "execute_result"
    }
   ],
   "source": [
    "def add_custom_stimulus(self, stim_times: list, reversal_potential: float, weight: float, tau: float) -> None:\n",
    "\n",
    "    # add synapse\n",
    "    syn = h.ExpSyn(self.soma(0.5))\n",
    "    syn.tau = tau\n",
    "    syn.e = reversal_potential * mV\n",
    "    syn_current = h.Vector().record(syn._ref_i)\n",
    "    self.syns.append(syn)\n",
    "    self.syn_currents.append(syn_current)\n",
    "    netstims = [h.NetStim() for _ in stim_times] \n",
    "    for netstim, stim_time in zip(netstims, stim_times):\n",
    "        netstim.number = 1\n",
    "        netstim.start = stim_time\n",
    "        netcon = h.NetCon(netstim, syn)\n",
    "        netcon.weight[0] = weight\n",
    "        netcon.delay = 0 * ms\n",
    "    self.netcons.append(netcon)\n",
    "    self.stims.extend(netstims)"
   ]
  },
  {
   "cell_type": "code",
   "execution_count": null,
   "id": "40f18654-93fc-4e64-827b-e76265ef8228",
   "metadata": {},
   "outputs": [],
   "source": []
  }
 ],
 "metadata": {
  "kernelspec": {
   "display_name": "Python 3 (ipykernel)",
   "language": "python",
   "name": "python3"
  },
  "language_info": {
   "codemirror_mode": {
    "name": "ipython",
    "version": 3
   },
   "file_extension": ".py",
   "mimetype": "text/x-python",
   "name": "python",
   "nbconvert_exporter": "python",
   "pygments_lexer": "ipython3",
   "version": "3.9.13"
  }
 },
 "nbformat": 4,
 "nbformat_minor": 5
}
