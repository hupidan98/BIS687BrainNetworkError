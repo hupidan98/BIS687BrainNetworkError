{
 "cells": [
  {
   "cell_type": "code",
   "execution_count": 1,
   "id": "788167b3-847f-4ce2-975b-cc84ae7f158d",
   "metadata": {},
   "outputs": [],
   "source": [
    "import numpy as np\n",
    "import pickle\n",
    "import lzma\n",
    "\n",
    "import elephant.statistics as estats\n",
    "import elephant\n",
    "import neo\n",
    "from quantities import ms, s, Hz\n",
    "\n",
    "from elephant.spike_train_dissimilarity import victor_purpura_distance\n",
    "from elephant.spike_train_dissimilarity import van_rossum_distance\n",
    "\n",
    "import pandas as pd\n",
    "import matplotlib.pyplot as plt\n",
    "\n",
    "import multiprocessing\n",
    "\n",
    "import random\n",
    "import seaborn as sns\n",
    "\n"
   ]
  },
  {
   "cell_type": "code",
   "execution_count": 2,
   "id": "05382e7f-3771-4465-bc4f-b0525df8c76b",
   "metadata": {},
   "outputs": [],
   "source": [
    "# with open(\"./savedoutput/\" + \"FeedForward_point_layercount30_model0_input0_stddelay0.75_meandelay2.0_nrun8\" + \".pkl\", \"rb\") as fp:\n",
    "#     out1 = pickle.load(fp)\n",
    "# with open(\"./savedoutput/\" + \"FeedForward_point_layercount30_model0_input0_stddelay0.75_meandelay2.0_nrun9\" + \".pkl\", \"rb\") as fp:\n",
    "#     out2 = pickle.load(fp)\n",
    "\n",
    "\n",
    "# with lzma.open(\"./savedoutput/\" + \"SmallWorld_point_layercount30_model5_input0_stddelay1.0_meandelay3.0_nrun9\" + \".xz\", \"rb\") as fp:\n",
    "#     out1 = pickle.load(fp)\n",
    "# with lzma.open(\"./savedoutput/\" + \"SmallWorld_point_layercount30_model5_input0_stddelay1.0_meandelay3.0_nrun8\" + \".xz\", \"rb\") as fp:\n",
    "#     out2 = pickle.load(fp)"
   ]
  },
  {
   "cell_type": "code",
   "execution_count": 3,
   "id": "d6520ec6-1d72-4fbe-afde-73b62d497a4c",
   "metadata": {},
   "outputs": [],
   "source": [
    "# plt.figure(figsize=(40,10))\n",
    "# plt.vlines(out1[5], 1 + 0.5, 1 + 1.5)\n",
    "# plt.vlines(out2[5], 2 + 0.5, 2 + 1.5)"
   ]
  },
  {
   "cell_type": "code",
   "execution_count": 4,
   "id": "c4734999-fc7b-4526-ba33-743c429edff0",
   "metadata": {
    "tags": []
   },
   "outputs": [],
   "source": [
    "# for model_id in np.arange(0, 10, 1):\n",
    "#     for input_idx in range(10):\n",
    "#         for n_run in np.arange(0, 10, 1):\n",
    "            \n",
    "def get_data(networktype, layercount, meandelay, stddelay, model_id, input_idx, n_run, CellType = \"point\"):\n",
    "    name = networktype + '_' + str(CellType) + '_layercount' + str(layercount) + '_model' + str(model_id) + '_input' + str(input_idx) + '_stddelay' + str(stddelay) + '_meandelay' + str(meandelay) + '_nrun' + str(n_run)\n",
    "    with lzma.open(\"./savedoutput/\" + name + \".xz\", \"rb\") as fp:\n",
    "        outsaved = pickle.load(fp)\n",
    "    return outsaved\n",
    "\n",
    "def get_vp(baseline, distrubed, qnum):\n",
    "    # Calculating the victor purpora distace of a single cell spiking\n",
    "    duration = 10000\n",
    "    train1 = neo.SpikeTrain(baseline * ms, t_stop=duration*ms)\n",
    "    train2 = neo.SpikeTrain(distrubed * ms, t_stop=duration*ms)\n",
    "    \n",
    "    # q = 1.0 / (10.0 * ms) # used in other paper\n",
    "    q = qnum / ms # cost factor for shifting spikes in the victor purpura distance\n",
    "    vp_dist = victor_purpura_distance([train1, train2], q)[0, 1]\n",
    "    \n",
    "    \n",
    "    if len(baseline) == 0:\n",
    "        return 0\n",
    "    return vp_dist/ len(baseline)\n",
    "\n",
    "def get_vr(baseline, distrubed, taunum):\n",
    "    # Calculating the van rossum distace of a single cell spiking\n",
    "    duration = 10000\n",
    "    train1 = neo.SpikeTrain(baseline * ms, t_stop=duration*ms)\n",
    "    train2 = neo.SpikeTrain(distrubed * ms, t_stop=duration*ms)\n",
    "  \n",
    "    # tau = 1s default? 10ms   why 10ms, vab rissom paper\n",
    "    # tau = 10.0 * ms # time constant for the van rossum distance\n",
    "    tau = 1000 * taunum * ms\n",
    "    vr_dist = van_rossum_distance([train1, train2], tau)[0, 1]\n",
    "    \n",
    "    if len(baseline) == 0:\n",
    "        return 0\n",
    "    return vr_dist/ len(baseline)\n",
    "\n",
    "# def get_devarvp(baseline, distrubed, qnum, stddelay):\n",
    "#     # Calculating the devarianced victor purpora distace of a single cell spiking\n",
    "#     duration = 10000\n",
    "#     train1 = neo.SpikeTrain(baseline * ms, t_stop=duration*ms)\n",
    "#     train2 = neo.SpikeTrain(distrubed * ms, t_stop=duration*ms)\n",
    "#     # q = 1.0 / (10.0 * ms)\n",
    "#     q = qnum / ms # cost factor for shifting spikes in the victor purpura distance\n",
    "#     vp_dist = victor_purpura_distance([train1, train2], q)[0, 1]\n",
    "#     # tau = 10.0 * ms # time constant for the van rossum distance\n",
    "#     # vr_dist = van_rossum_distance([train1, train2], tau)[0, 1]\n",
    "#     if len(baseline) == 0:\n",
    "#         return 0\n",
    "#     return (vp_dist - qnum * len(baseline) * stddelay * np.sqrt(2/np.pi)) / len(baseline)\n",
    "\n",
    "def get_vp_singlerun(baseline_all, distrubed_all, qnum, stddelay, layercount):\n",
    "    # Getting the vp metrics between layers of network of a single simulation\n",
    "    avgvp_bylayer = []\n",
    "    # avgdevarvp_bylayer = []\n",
    "    for layer_num in range(10):\n",
    "        layer_vp = []\n",
    "        # layer_devarvp = []\n",
    "        for cell_num in range(layercount):\n",
    "            baseline = baseline_all[layer_num * layercount + cell_num]\n",
    "            distrubed = distrubed_all[layer_num * layercount + cell_num]\n",
    "            cell_vp = get_vp(baseline, distrubed, qnum)\n",
    "            # cell_devarvp = get_devarvp(baseline, distrubed, qnum, stddelay)\n",
    "            layer_vp.append(cell_vp)\n",
    "            # layer_devarvp.append(cell_devarvp)\n",
    "        avgvp_bylayer.append(np.mean(layer_vp))\n",
    "        # avgdevarvp_bylayer.append(np.mean(layer_devarvp))\n",
    "    # return np.array(avgvp_bylayer), np.array(avgdevarvp_bylayer)\n",
    "    return np.array(avgvp_bylayer)\n",
    "\n",
    "def get_vr_singlerun(baseline_all, distrubed_all, taunum, stddelay, layercount):\n",
    "    # Getting the vp metrics between layers of network of a single simulation\n",
    "    avgvp_bylayer = []\n",
    "    # avgdevarvp_bylayer = []\n",
    "    for layer_num in range(10):\n",
    "        layer_vp = []\n",
    "        # layer_devarvp = []\n",
    "        for cell_num in range(layercount):\n",
    "            baseline = baseline_all[layer_num * layercount + cell_num]\n",
    "            distrubed = distrubed_all[layer_num * layercount + cell_num]\n",
    "            cell_vp = get_vr(baseline, distrubed, taunum)\n",
    "            # cell_devarvp = get_devarvp(baseline, distrubed, qnum, stddelay)\n",
    "            layer_vp.append(cell_vp)\n",
    "            # layer_devarvp.append(cell_devarvp)\n",
    "        avgvp_bylayer.append(np.mean(layer_vp))\n",
    "        # avgdevarvp_bylayer.append(np.mean(layer_devarvp))\n",
    "    # return np.array(avgvp_bylayer), np.array(avgdevarvp_bylayer)\n",
    "    return np.array(avgvp_bylayer)\n",
    "    \n",
    "        \n",
    "def cal_VPbyStd(networktype, layercount, meandelay, stddelay, qnum):\n",
    "    all_vp = []\n",
    "    # all_devarvp = []\n",
    "    for model_id in np.arange(0, 10, 1):\n",
    "        for input_idx in range(10):\n",
    "            baseline_all = get_data(networktype, layercount, meandelay, 0.0, model_id, input_idx, 0, CellType = \"point\")\n",
    "            for n_run in np.arange(0, 10, 1): \n",
    "                distrubed_all = get_data(networktype, layercount, meandelay, stddelay, model_id, input_idx, n_run, CellType = \"point\")\n",
    "                # singlerun_vp, singlerun_devarvp = get_vps_singlerun(baseline_all, distrubed_all, qnum, stddelay, layercount)\n",
    "                singlerun_vp = get_vp_singlerun(baseline_all, distrubed_all, qnum, stddelay, layercount)\n",
    "                all_vp.append(singlerun_vp)\n",
    "                # all_devarvp.append(singlerun_devarvp)\n",
    "    with open('./VP_processing/'+ networktype + \"_layercount\" + str(layercount) + \"_meandelay\" + str(meandelay) + \"_stddelay\" + str(stddelay) + \"_qum\" + str(qnum) + \"_VP.pkl\",'wb') as f: pickle.dump(all_vp, f)\n",
    "    # with open('./VP_processing/'+ networktype + \"_layercount\" + str(layercount) + \"_meandelay\" + str(meandelay) + \"_stddelay\" + str(stddelay) + \"_qum\" + str(qnum) + \"_devarVP.pkl\",'wb') as f: pickle.dump(all_devarvp, f)\n",
    "    return 0\n",
    "\n",
    "def cal_VRbyStd(networktype, layercount, meandelay, stddelay, taunum):\n",
    "    all_vp = []\n",
    "    # all_devarvp = []\n",
    "    for model_id in np.arange(0, 10, 1):\n",
    "        for input_idx in range(10):\n",
    "            baseline_all = get_data(networktype, layercount, meandelay, 0.0, model_id, input_idx, 0, CellType = \"point\")\n",
    "            for n_run in np.arange(0, 10, 1): \n",
    "                distrubed_all = get_data(networktype, layercount, meandelay, stddelay, model_id, input_idx, n_run, CellType = \"point\")\n",
    "                # singlerun_vp, singlerun_devarvp = get_vps_singlerun(baseline_all, distrubed_all, qnum, stddelay, layercount)\n",
    "                singlerun_vp = get_vr_singlerun(baseline_all, distrubed_all, taunum, stddelay, layercount)\n",
    "                all_vp.append(singlerun_vp)\n",
    "                # all_devarvp.append(singlerun_devarvp)\n",
    "    with open('./VR_processing/'+ networktype + \"_layercount\" + str(layercount) + \"_meandelay\" + str(meandelay) + \"_stddelay\" + str(stddelay) + \"_tau\" + str(taunum) + \"_VR.pkl\",'wb') as f: pickle.dump(all_vp, f)\n",
    "    # with open('./VP_processing/'+ networktype + \"_layercount\" + str(layercount) + \"_meandelay\" + str(meandelay) + \"_stddelay\" + str(stddelay) + \"_qum\" + str(qnum) + \"_devarVP.pkl\",'wb') as f: pickle.dump(all_devarvp, f)\n",
    "    return 0\n",
    "\n",
    "def cal_VPbyStd_dicinput(input_dic):\n",
    "    output = cal_VPbyStd(input_dic['networktype'], input_dic['layercount'], input_dic['meandelay'], input_dic['stddelay'], input_dic['qnum'])\n",
    "    return 0\n",
    "\n",
    "def cal_VRbyStd_dicinput(input_dic):\n",
    "    output = cal_VRbyStd(input_dic['networktype'], input_dic['layercount'], input_dic['meandelay'], input_dic['stddelay'], input_dic['taunum'])\n",
    "    return 0\n",
    "                \n",
    "\n",
    "\n",
    "        \n",
    "        "
   ]
  },
  {
   "cell_type": "code",
   "execution_count": 5,
   "id": "03d01d51-8fcb-489d-becf-0110aca7f39e",
   "metadata": {
    "tags": []
   },
   "outputs": [],
   "source": [
    "# argdict_lst_vp = []\n",
    "# argdict_lst_vr = []\n",
    "# for layercount in [30, 40, 50, 60]:\n",
    "#     for MeanDelay_noround in np.arange(2, 3.01, 0.2):\n",
    "#         MeanDelay = np.round(MeanDelay_noround,1)\n",
    "#         for stdDelay_noround in np.arange(0, 1.01, 0.05):\n",
    "#             stdDelay = np.round(stdDelay_noround,2)\n",
    "#             argdict_vp = {'networktype':'FeedForward', 'layercount':layercount , 'meandelay':MeanDelay, 'stddelay':stdDelay, 'qnum':0.1}\n",
    "#             argdict_lst_vp.append(argdict_vp)\n",
    "#             argdict_vr = {'networktype':'FeedForward', 'layercount':layercount , 'meandelay':MeanDelay, 'stddelay':stdDelay, 'taunum':0.01}\n",
    "#             argdict_lst_vr.append(argdict_vr)\n",
    "#             # cal_VPbyStd('FeedForward', layercount, MeanDelay, stdDelay, 0.1)\n",
    "#             # cal_VRbyStd('FeedForward', layercount, MeanDelay, stdDelay, 0.01)\n",
    "\n",
    "            \n",
    "\n",
    "    "
   ]
  },
  {
   "cell_type": "code",
   "execution_count": 6,
   "id": "64831f74-ec70-48e2-ad41-1975a1e08684",
   "metadata": {},
   "outputs": [],
   "source": [
    "# len(argdict_lst_vr)\n"
   ]
  },
  {
   "cell_type": "code",
   "execution_count": 7,
   "id": "33f06a39-d1b3-469e-9f19-dc0c900afd56",
   "metadata": {},
   "outputs": [],
   "source": [
    "# cal_VRbyStd_dicinput(argdict_lst_vr[0])\n",
    "# cal_VPbyStd_dicinput(argdict_lst_vp[0])"
   ]
  },
  {
   "cell_type": "code",
   "execution_count": 8,
   "id": "ca08ee88-43d1-4f27-80ab-b4c1b76fb2d8",
   "metadata": {
    "tags": []
   },
   "outputs": [],
   "source": [
    "# with multiprocessing.Pool(processes=2) as pool:\n",
    "#     output = pool.map(cal_VRbyStd_dicinput, argdict_lst_vr)\n",
    "#     output = pool.map(cal_VPbyStd_dicinput, argdict_lst_vp)"
   ]
  },
  {
   "cell_type": "code",
   "execution_count": 9,
   "id": "6411bbef-c8b0-4a4c-8d14-74880fdc8cf0",
   "metadata": {
    "tags": []
   },
   "outputs": [
    {
     "data": {
      "text/plain": [
       "array([0.        , 0.27370508, 0.61890213, 0.90101356, 0.89705025,\n",
       "       0.99106113, 0.96008782, 0.94441753, 0.99893467, 1.00732122])"
      ]
     },
     "execution_count": 9,
     "metadata": {},
     "output_type": "execute_result"
    }
   ],
   "source": [
    "data1 = get_data('FeedForward', 30, 2.6, 0.0, 3, 8, 0, CellType = \"point\")\n",
    "data2 = get_data('FeedForward', 30, 2.6, 0.55, 3, 8, 7, CellType = \"point\")\n",
    "get_vp_singlerun(data1, data2, 0.1, 0.55, 30)\n",
    "# FeedForward_point_layercount30_model3_input8_stddelay0.55_meandelay2.6_nrun7.xz\n",
    "# FeedForward_point_layercount30_model3_input8_stddelay0.55_meandelay2.6_nrun0.xz"
   ]
  },
  {
   "cell_type": "code",
   "execution_count": 10,
   "id": "96593527-be44-4b3f-93c3-bfc53bf382ee",
   "metadata": {},
   "outputs": [
    {
     "name": "stdout",
     "output_type": "stream",
     "text": [
      "0\n",
      "1000\n",
      "2000\n",
      "3000\n",
      "4000\n",
      "5000\n",
      "6000\n",
      "7000\n",
      "8000\n",
      "9000\n"
     ]
    }
   ],
   "source": [
    "VP_lst = []\n",
    "VR_lst = []\n",
    "for i in range(10000):\n",
    "    if i % 1000 == 0:\n",
    "        print(i)\n",
    "    num_spike1 = random.randint(300, 500)\n",
    "    random_float1 = [random.uniform(0, 10000) for _ in range(num_spike1)]\n",
    "    random_float1.sort()\n",
    "    random_float2 = [random.uniform(0, 10000) for _ in range(num_spike1)]\n",
    "    random_float2.sort()\n",
    "    VP_lst.append(get_vp(random_float1, random_float2, 0.1))\n",
    "    VR_lst.append(get_vr(random_float1, random_float2, 0.01))\n",
    "    "
   ]
  },
  {
   "cell_type": "code",
   "execution_count": 11,
   "id": "bbdbd69a-23ec-4de3-bd09-eb32b02e363f",
   "metadata": {},
   "outputs": [
    {
     "data": {
      "image/png": "[encoded data removed]",
      "text/plain": [
       "<Figure size 640x480 with 1 Axes>"
      ]
     },
     "metadata": {},
     "output_type": "display_data"
    }
   ],
   "source": [
    "sns.histplot(VP_lst, kde=True)  # kde=True adds a kernel density estimate curve\n",
    "plt.xlabel('Values')\n",
    "plt.ylabel('Frequency')\n",
    "plt.title('VP')\n",
    "plt.show()"
   ]
  },
  {
   "cell_type": "code",
   "execution_count": 12,
   "id": "88dea9d4-c000-40b4-8cd0-d27948bfac4a",
   "metadata": {},
   "outputs": [
    {
     "data": {
      "image/png": "[encoded data removed]",
      "text/plain": [
       "<Figure size 640x480 with 1 Axes>"
      ]
     },
     "metadata": {},
     "output_type": "display_data"
    }
   ],
   "source": [
    "sns.histplot(VR_lst, kde=True)  # kde=True adds a kernel density estimate curve\n",
    "plt.xlabel('Values')\n",
    "plt.ylabel('Frequency')\n",
    "plt.title('VR')\n",
    "plt.show()"
   ]
  },
  {
   "cell_type": "code",
   "execution_count": null,
   "id": "3270e09a-445c-4882-9f82-de92dbf04814",
   "metadata": {},
   "outputs": [],
   "source": [
    "get_vr_singlerun(data1, data2, 0.1, 0.55, 30)"
   ]
  },
  {
   "cell_type": "code",
   "execution_count": null,
   "id": "da8342aa-7d26-4a80-9664-144575e20f53",
   "metadata": {
    "tags": []
   },
   "outputs": [],
   "source": [
    "# data1[1]"
   ]
  },
  {
   "cell_type": "code",
   "execution_count": null,
   "id": "e77963c9-73cc-4e4b-9899-63cdd5079ccd",
   "metadata": {
    "tags": []
   },
   "outputs": [],
   "source": [
    "vp1, devarvp1 = cal_VPbyStd('FeedForward', 30, 2.6, 0.55, 0.1)"
   ]
  },
  {
   "cell_type": "code",
   "execution_count": null,
   "id": "38066faf-311c-4e78-95d8-a0fcdbaf0156",
   "metadata": {
    "tags": []
   },
   "outputs": [],
   "source": [
    "np.array(vp1).mean(axis  = 0)"
   ]
  },
  {
   "cell_type": "code",
   "execution_count": null,
   "id": "a1c263ff-3eef-43f2-9af7-c9fcbc8d4f8c",
   "metadata": {},
   "outputs": [],
   "source": [
    "# def get_data(nlevel, n, MeanDelay):\n",
    "#     result_dict = {}\n",
    "#     for stdDelay_noround in np.arange(0, 1.01, 0.05):\n",
    "#         stdDelay = np.round(stdDelay_noround,2)\n",
    "#         for model_id in np.arange(0, 3, 1):\n",
    "#             node_level_num = []\n",
    "#             for ii in range(nlevel):\n",
    "#                 node_level_num.append(n * 2)\n",
    "#             node_level_num.append(n)\n",
    "#             node_level_num.append(1)\n",
    "#             CellType = \"point\"\n",
    "#             for n_run in np.arange(0, 10, 1):\n",
    "#                 name = str(node_level_num) + '_' + str(CellType) + '_' + str(MeanDelay) + '_' + str(stdDelay) + '_' + str(model_id) + '_' + str(n_run)\n",
    "#                 with open(\"./savedoutput/\" + name + \".pkl\", \"rb\") as fp:\n",
    "#                     outsaved = pickle.load(fp)\n",
    "#                 result_dict[str(stdDelay) + '_' + str(model_id) + '_' + str(n_run)] = outsaved[-1]\n",
    "#     return result_dict\n",
    "\n",
    "# def get_vp(baseline, distrubed, qnum):\n",
    "#     duration = 10000\n",
    "#     train1 = neo.SpikeTrain(baseline * ms, t_stop=duration*ms)\n",
    "#     train2 = neo.SpikeTrain(distrubed * ms, t_stop=duration*ms)\n",
    "#     # q = 1.0 / (10.0 * ms) # cost factor for shifting spikes in the victor purpura distance\n",
    "#     q = qnum / ms\n",
    "#     tau = 10.0 * ms # time constant for the van rossum distance\n",
    "#     vp_dist = victor_purpura_distance([train1, train2], q)[0, 1]\n",
    "#     # vr_dist = van_rossum_distance([train1, train2], tau)[0, 1]\n",
    "#     return vp_dist/ len(baseline)\n",
    "\n",
    "# def get_devarvp(baseline, distrubed, qnum, stdnum):\n",
    "#     duration = 10000\n",
    "#     train1 = neo.SpikeTrain(baseline * ms, t_stop=duration*ms)\n",
    "#     train2 = neo.SpikeTrain(distrubed * ms, t_stop=duration*ms)\n",
    "#     # q = 1.0 / (10.0 * ms) # cost factor for shifting spikes in the victor purpura distance\n",
    "#     q = qnum / ms\n",
    "#     tau = 10.0 * ms # time constant for the van rossum distance\n",
    "#     vp_dist = victor_purpura_distance([train1, train2], q)[0, 1]\n",
    "#     # vr_dist = van_rossum_distance([train1, train2], tau)[0, 1]\n",
    "#     return (vp_dist - qnum * len(baseline) * stdnum * np.sqrt(2/np.pi)) / len(baseline)\n",
    "\n",
    "\n",
    "# def cal_VPbyStd(nlevel, n, MeanDelay, qnum):\n",
    "#     output = get_data(nlevel, n, MeanDelay)\n",
    "#     # baseline = output[list(output.keys())[0]]\n",
    "#     vp_bystd = []\n",
    "#     devarvp_bystd = []\n",
    "#     for stdDelay_noround in np.arange(0.0, 1.01, 0.05):\n",
    "#         stdDelay = np.round(stdDelay_noround,2)\n",
    "#         vp_lst = []\n",
    "#         devarvp_lst = []\n",
    "#         for model_id in np.arange(0, 3, 1):\n",
    "#             for n_run in np.arange(0, 10, 1):\n",
    "#                 baseline_dickey = str(0.0) + \"_\" + str(model_id) + \"_\" + str(n_run)\n",
    "#                 baseline = output[baseline_dickey]\n",
    "#                 distrubed_dickey = str(stdDelay) + \"_\" + str(model_id) + \"_\" + str(n_run)\n",
    "#                 distrubed = output[distrubed_dickey]\n",
    "#                 # print(baseline_dickey, distrubed_dickey)\n",
    "#                 vp_lst.append(get_vp(baseline, distrubed, qnum))\n",
    "#                 devarvp_lst.append(get_devarvp(baseline, distrubed, qnum, stdDelay))\n",
    "        \n",
    "#         vp_bystd.append(np.mean(vp_lst))\n",
    "#         devarvp_bystd.append(np.mean(vp_lst))\n",
    "#     return vp_bystd, devarvp_bystd\n",
    "\n",
    "# def cal_VPbyStd_singleparam(param):\n",
    "#     return cal_VPbyStd(param['nlevel'], param['n'], param['MeanDelay'], param['qnum'])\n",
    "\n",
    "# nlevel = 5\n",
    "# n = 35\n",
    "# MeanDelay = 2.6\n",
    "# output = get_data(nlevel, n, MeanDelay)\n",
    "\n",
    "# get_vp(output['0.0_0_0'], output['0.5_0_2'], 0.01)\n",
    "# get_devarvp(output['0.0_0_0'], output['0.5_0_2'], 0.01, 0.5)\n",
    "\n",
    "# print(len(output['0.0_0_0']))\n",
    "# print(len(output['0.1_0_0']))\n",
    "\n",
    "\n",
    "# plt.figure(figsize=(40,10))\n",
    "# plt.vlines(output['0.0_0_0'], 1 + 0.5, 1 + 1.5)\n",
    "# plt.vlines(output['0.1_0_0'], 2 + 0.5, 2 + 1.5)"
   ]
  },
  {
   "cell_type": "code",
   "execution_count": null,
   "id": "34a8e22d-47fe-47cf-8748-f16b31eed637",
   "metadata": {},
   "outputs": [],
   "source": [
    "# nlevel_lst = []\n",
    "# n_lst = []\n",
    "# MeanDelay_lst = []\n",
    "# qnum_lst = []\n",
    "# param_lst = []\n",
    "\n",
    "# vp_lst = []\n",
    "# devarVP_lst = []\n",
    "\n",
    "# for nlevel in np.arange(1, 10):\n",
    "#     for n in np.arange(30, 41, 5):\n",
    "#         for MeanDelay_noround in np.arange(2, 3.01, 0.2):\n",
    "#             for qnum in [0, 0.1, 0.01, 0.001]:\n",
    "#                 MeanDelay = np.round(MeanDelay_noround,1)\n",
    "#                 print(nlevel, n, MeanDelay)\n",
    "#                 nlevel_lst.append(nlevel)\n",
    "#                 n_lst.append(n)\n",
    "#                 MeanDelay_lst.append(MeanDelay)\n",
    "#                 qnum_lst.append(qnum)\n",
    "#                 param_lst.append({'nlevel':nlevel , 'n':n , 'MeanDelay':MeanDelay , 'qnum':qnum})\n",
    "                \n",
    "#                 vpp = cal_VPbyStd(nlevel, n, MeanDelay, qnum)\n",
    "#                 vp_lst.append(vpp[0])\n",
    "#                 devarVP_lst.append(vpp[1])\n",
    "         \n",
    "# ## with Pool(4) as p:\n",
    "# #     vpp_lst = p.map(cal_VPbyStd_singleparam, param_lst)\n",
    "# # for i in vpp_lst:\n",
    "# #     devarVP_lst.append[i[0]]"
   ]
  },
  {
   "cell_type": "code",
   "execution_count": null,
   "id": "0955b31b-5e20-4a28-bd1d-6f8573471a53",
   "metadata": {},
   "outputs": [],
   "source": [
    "\n",
    "# df = pd.DataFrame(list(zip(nlevel_lst, n_lst, MeanDelay_lst, qnum_lst, vp_lst, devarVP_lst)),\n",
    "#                columns =['nlevel', 'n', 'MeanDelay', 'qnum','vpbystd', 'devarVPbyStd'])\n",
    "\n",
    "# df.to_pickle(\"VPbyStd_avg.pkl\")\n",
    "# df = pd.read_pickle('VPbyStd_avg.pkl')"
   ]
  },
  {
   "cell_type": "code",
   "execution_count": null,
   "id": "bb3850f9-dc86-4f68-ba1a-7f23b15f204a",
   "metadata": {},
   "outputs": [],
   "source": [
    "# std_delay_lst = []\n",
    "# for stdDelay_noround in np.arange(0.0, 1.01, 0.05):\n",
    "#         stdDelay = np.round(stdDelay_noround,2)\n",
    "#         std_delay_lst.append(stdDelay)\n"
   ]
  },
  {
   "cell_type": "code",
   "execution_count": null,
   "id": "3c1734f2-48b2-448f-bd2f-f3dc5915640e",
   "metadata": {},
   "outputs": [],
   "source": [
    "# df\n",
    "\n"
   ]
  },
  {
   "cell_type": "code",
   "execution_count": null,
   "id": "467fafab-b708-4da0-97d3-7b45a7594359",
   "metadata": {},
   "outputs": [],
   "source": [
    "# # for cost = 0/ms but missing is 1\n",
    "# fig, axs = plt.subplots(3, 6, figsize=(40, 20))\n",
    "# counter_i = -1\n",
    "# for n in np.arange(30, 41, 5):\n",
    "#     counter_i += 1 \n",
    "    \n",
    "#     counter_j = -1\n",
    "#     for MeanDelay_noround in np.arange(2, 3.01, 0.2):\n",
    "#         MeanDelay = np.round(MeanDelay_noround,1)\n",
    "#         counter_j += 1\n",
    "#         for nlevel in np.arange(1, 5):\n",
    "#             y = df.loc[(df['nlevel'] == nlevel) & (df['n'] == n) & (df['MeanDelay'] == MeanDelay)& (df['qnum'] == 0.001), 'vpbystd'].values[0]\n",
    "#             axs[counter_i, counter_j].plot(std_delay_lst, y,  label=str(nlevel + 1) + ' layers')\n",
    "#             axs[counter_i, counter_j].set_title('{} cells/layer,MeanDelay {}'.format(2 * n, MeanDelay))\n",
    "#             axs[counter_i, counter_j].legend()\n",
    "        "
   ]
  },
  {
   "cell_type": "code",
   "execution_count": null,
   "id": "3e7347ad-731f-48f3-b8c8-9c130d3515c3",
   "metadata": {},
   "outputs": [],
   "source": [
    "# for cost = 0/ms but missing is 1\n",
    "fig, axs = plt.subplots(3, 6, figsize=(40, 20))\n",
    "counter_i = -1\n",
    "for n in np.arange(30, 41, 5):\n",
    "    counter_i += 1 \n",
    "    \n",
    "    counter_j = -1\n",
    "    for MeanDelay_noround in np.arange(2, 3.01, 0.2):\n",
    "        MeanDelay = np.round(MeanDelay_noround,1)\n",
    "        counter_j += 1\n",
    "        for nlevel in np.arange(1, 5):\n",
    "            y = df.loc[(df['nlevel'] == nlevel) & (df['n'] == n) & (df['MeanDelay'] == MeanDelay)& (df['qnum'] == 0.1), 'vpbystd'].values[0]\n",
    "            axs[counter_i, counter_j].plot(std_delay_lst, y,  label=str(nlevel + 1) + ' layers')\n",
    "            axs[counter_i, counter_j].set_title('{} cells/layer,MeanDelay {}'.format(2 * n, MeanDelay))\n",
    "            axs[counter_i, counter_j].legend()\n",
    "        "
   ]
  },
  {
   "cell_type": "code",
   "execution_count": null,
   "id": "776184ad-ff18-4955-8dbe-790da57b1fee",
   "metadata": {},
   "outputs": [],
   "source": [
    "# # for cost = 0/ms but missing is 1\n",
    "# fig, axs = plt.subplots(3, 6, figsize=(40, 20))\n",
    "# counter_i = -1\n",
    "# for n in np.arange(30, 41, 5):\n",
    "#     counter_i += 1 \n",
    "    \n",
    "#     counter_j = -1\n",
    "#     for MeanDelay_noround in np.arange(2, 3.01, 0.2):\n",
    "#         MeanDelay = np.round(MeanDelay_noround,1)\n",
    "#         counter_j += 1\n",
    "#         for nlevel in np.arange(1, 5):\n",
    "#             y = df.loc[(df['nlevel'] == nlevel) & (df['n'] == n) & (df['MeanDelay'] == MeanDelay)& (df['qnum'] == 0.1), 'devarVPbyStd'].values[0]\n",
    "#             axs[counter_i, counter_j].plot(std_delay_lst, y,  label=str(nlevel + 1) + ' layers')\n",
    "#             axs[counter_i, counter_j].set_title('{} cells/layer,MeanDelay {}'.format(2 * n, MeanDelay))\n",
    "#             axs[counter_i, counter_j].legend()\n",
    "        "
   ]
  },
  {
   "cell_type": "code",
   "execution_count": null,
   "id": "5f58ab94-ca9d-462a-88c9-597f460e33bf",
   "metadata": {},
   "outputs": [],
   "source": [
    "# # for cost = 0/ms but missing is 1\n",
    "# fig, axs = plt.subplots(3, 6, figsize=(40, 20))\n",
    "# counter_i = -1\n",
    "# for n in np.arange(30, 41, 5):\n",
    "#     counter_i += 1 \n",
    "    \n",
    "#     counter_j = -1\n",
    "#     for MeanDelay_noround in np.arange(2, 3.01, 0.2):\n",
    "#         MeanDelay = np.round(MeanDelay_noround,1)\n",
    "#         counter_j += 1\n",
    "#         for nlevel in np.arange(1, 5):\n",
    "#             y = df.loc[(df['nlevel'] == nlevel) & (df['n'] == n) & (df['MeanDelay'] == MeanDelay)& (df['qnum'] == 0.01), 'vpbystd'].values[0]\n",
    "#             axs[counter_i, counter_j].plot(std_delay_lst, y,  label=str(nlevel + 1) + ' layers')\n",
    "#             axs[counter_i, counter_j].set_title('{} cells/layer,MeanDelay {}'.format(2 * n, MeanDelay))\n",
    "#             axs[counter_i, counter_j].legend()\n",
    "        "
   ]
  },
  {
   "cell_type": "code",
   "execution_count": null,
   "id": "89904e70-8ff7-4310-99a3-2288058636a3",
   "metadata": {},
   "outputs": [],
   "source": [
    "# # for cost = 0/ms but missing is 1\n",
    "# fig, axs = plt.subplots(3, 6, figsize=(40, 20))\n",
    "# counter_i = -1\n",
    "# for n in np.arange(30, 41, 5):\n",
    "#     counter_i += 1 \n",
    "    \n",
    "#     counter_j = -1\n",
    "#     for MeanDelay_noround in np.arange(2, 3.01, 0.2):\n",
    "#         MeanDelay = np.round(MeanDelay_noround,1)\n",
    "#         counter_j += 1\n",
    "#         for nlevel in np.arange(1, 5):\n",
    "#             y = df.loc[(df['nlevel'] == nlevel) & (df['n'] == n) & (df['MeanDelay'] == MeanDelay)& (df['qnum'] == 0.01), 'devarVPbyStd'].values[0]\n",
    "#             axs[counter_i, counter_j].plot(std_delay_lst, y,  label=str(nlevel + 1) + ' layers')\n",
    "#             axs[counter_i, counter_j].set_title('{} cells/layer,MeanDelay {}'.format(2 * n, MeanDelay))\n",
    "#             axs[counter_i, counter_j].legend()\n",
    "        "
   ]
  },
  {
   "cell_type": "code",
   "execution_count": null,
   "id": "a2c040c4-dfd1-4efd-b5b6-1a7bd3c18078",
   "metadata": {},
   "outputs": [],
   "source": [
    "# # for cost = 0/ms but missing is 1\n",
    "# fig, axs = plt.subplots(3, 6, figsize=(40, 20))\n",
    "# counter_i = -1\n",
    "# for n in np.arange(30, 41, 5):\n",
    "#     counter_i += 1 \n",
    "    \n",
    "#     counter_j = -1\n",
    "#     for MeanDelay_noround in np.arange(2, 3.01, 0.2):\n",
    "#         MeanDelay = np.round(MeanDelay_noround,1)\n",
    "#         counter_j += 1\n",
    "#         for nlevel in np.arange(1, 5):\n",
    "#             y = df.loc[(df['nlevel'] == nlevel) & (df['n'] == n) & (df['MeanDelay'] == MeanDelay)& (df['qnum'] == 0.001), 'devarVPbyStd'].values[0]\n",
    "#             axs[counter_i, counter_j].plot(std_delay_lst, y,  label=str(nlevel + 1) + ' layers')\n",
    "#             axs[counter_i, counter_j].set_title('{} cells/layer,MeanDelay {}'.format(2 * n, MeanDelay))\n",
    "#             axs[counter_i, counter_j].legend()\n",
    "        "
   ]
  },
  {
   "cell_type": "code",
   "execution_count": null,
   "id": "d1267d16-0403-47a1-868b-4bfde0f9cf89",
   "metadata": {},
   "outputs": [],
   "source": [
    "# for cost = 0/ms but missing is 1\n",
    "fig, axs = plt.subplots(3, 6, figsize=(40, 20))\n",
    "counter_i = -1\n",
    "for n in np.arange(30, 41, 5):\n",
    "    counter_i += 1 \n",
    "    \n",
    "    counter_j = -1\n",
    "    for MeanDelay_noround in np.arange(2, 3.01, 0.2):\n",
    "        MeanDelay = np.round(MeanDelay_noround,1)\n",
    "        counter_j += 1\n",
    "        for nlevel in np.arange(1, 5):\n",
    "            y = df.loc[(df['nlevel'] == nlevel) & (df['n'] == n) & (df['MeanDelay'] == MeanDelay)& (df['qnum'] == 0), 'devarVPbyStd'].values[0]\n",
    "            axs[counter_i, counter_j].plot(std_delay_lst, y,  label=str(nlevel + 1) + ' layers')\n",
    "            axs[counter_i, counter_j].set_title('{} cells/layer,MeanDelay {}'.format(2 * n, MeanDelay))\n",
    "            axs[counter_i, counter_j].legend()\n",
    "        "
   ]
  },
  {
   "cell_type": "code",
   "execution_count": null,
   "id": "be50daf4-939e-45b9-af0c-544ab8b1f1d4",
   "metadata": {},
   "outputs": [],
   "source": [
    "# for i in range(df.shape[0]):\n",
    "#     # plt.figure()\n",
    "#     name = (str(df.iloc[i,0]) + \"_\" + str(df.iloc[i,1]) + \"_\" + str(df.iloc[i,2]))\n",
    "#     plt.plot(std_delay_lst, df.iloc[i,3], label=name)\n",
    "#     plt.legend()\n",
    "#     # plt.show()\n",
    "    \n",
    "    "
   ]
  },
  {
   "cell_type": "code",
   "execution_count": null,
   "id": "85fcd5cf-ea18-4007-8fa9-a73c89467108",
   "metadata": {},
   "outputs": [],
   "source": [
    "# over400lst = []\n",
    "# for i in range(162):\n",
    "#     if max(df.iloc[i, 3]) > 400:\n",
    "#         over400lst.append(i)"
   ]
  },
  {
   "cell_type": "code",
   "execution_count": null,
   "id": "c78be012-5c2d-4f8b-a72c-b8b3a53a6409",
   "metadata": {},
   "outputs": [],
   "source": [
    "# for i in over400lst:\n",
    "#     print(i)\n",
    "#     print(df.iloc[i, :3])\n",
    "#     plt.figure()\n",
    "#     plt.plot(std_delay_lst, df.iloc[i,3])\n",
    "#     plt.show()\n",
    "    \n",
    "    "
   ]
  },
  {
   "cell_type": "code",
   "execution_count": null,
   "id": "3f2a9099-d1fa-402a-a58c-6ba7f54e278a",
   "metadata": {},
   "outputs": [],
   "source": [
    "# for i in over400lst:\n",
    "#     print(i)\n",
    "#     print(df.iloc[i, :3])\n",
    "#     print(calFulllist_VPbyStd(df.iloc[i, 0], df.iloc[i, 1], df.iloc[i, 2]))"
   ]
  },
  {
   "cell_type": "code",
   "execution_count": null,
   "id": "fac543d3-1aad-4053-802a-bce04b7aeaad",
   "metadata": {},
   "outputs": [],
   "source": [
    "# for nlevel in np.arange(1, 10):\n",
    "#     for n in np.arange(30, 41, 5):\n",
    "#         for MeanDelay_noround in np.arange(2, 3.01, 0.2):\n",
    "#             MeanDelay = np.round(MeanDelay_noround,1)\n",
    "#             for stdDelay_noround in np.arange(0, 1.01, 0.1):\n",
    "#                 stdDelay = np.round(stdDelay_noround,1)\n",
    "#                 for model_id in np.arange(0, 5, 1):\n",
    "#                     node_level_num = []\n",
    "#                     for ii in range(nlevel):\n",
    "#                         node_level_num.append(n * 2)\n",
    "#                     node_level_num.append(n)\n",
    "#                     node_level_num.append(1)\n",
    "#                     CellType = \"point\"\n",
    "#                     for n_run in np.arange(0, 5, 1):\n",
    "#                         name = str(node_level_num) + '_' + str(CellType) + '_' + str(MeanDelay) + '_' + str(stdDelay) + '_' + str(model_id) + '_' + str(n_run)"
   ]
  },
  {
   "cell_type": "code",
   "execution_count": null,
   "id": "bc66fe06-7bcf-4199-89ef-cc5465a34fed",
   "metadata": {},
   "outputs": [],
   "source": [
    "# get_vp(output[list(output.keys())[0]], output[list(output.keys())[13]])"
   ]
  },
  {
   "cell_type": "code",
   "execution_count": null,
   "id": "1076cfa3-82c0-4181-98a7-47f15a97550b",
   "metadata": {},
   "outputs": [],
   "source": [
    "# name = '[70, 70, 35, 1]_point_2.0_0.0_0_0'\n",
    "# with open(\"./savedoutput/\" + name + \".pkl\", \"rb\") as fp:\n",
    "#     outsaved = pickle.load(fp)\n",
    "# node_level_num = [int(_) for _ in name[1:].split(']')[0].split(',')]\n",
    "# vec_space = 0.025\n",
    "# spike_mat = np.zeros((len(outsaved), int(10000/vec_space)))\n",
    "# for i in range(len(outsaved)):\n",
    "#     for n in range(len(outsaved[i])):\n",
    "#         j = int(outsaved[i][n]/vec_space)\n",
    "#         spike_mat[i, j] = 1\n",
    "# spike_mat_bylayer = []\n",
    "# start_idx = 0\n",
    "# end_idx = 0\n",
    "# for n in node_level_num:\n",
    "#     end_idx += n\n",
    "#     spike_mat_bylayer.append(spike_mat[start_idx:end_idx,:])\n",
    "#     start_idx += n"
   ]
  },
  {
   "cell_type": "code",
   "execution_count": null,
   "id": "c6a97ce0-3a11-4224-b3e1-30eb1659163c",
   "metadata": {},
   "outputs": [],
   "source": [
    "# spikes = [10, 20, 30]\n",
    "# duration = 50\n",
    "# train1 = neo.SpikeTrain(spikes * ms, t_stop=duration*ms) # spikes is a list of spike times, duration is a float of duration of spike train\n",
    "\n",
    "# spikes2 = [5, 33, 37]\n",
    "# duration2 = 50\n",
    "# train2 = neo.SpikeTrain(spikes2 * ms, t_stop=duration2*ms) # spikes is a list of spike times, duration is a float of duration of spike train\n",
    "\n",
    "# q = 1.0 / (10.0 * ms) # cost factor for shifting spikes in the victor purpura distance\n",
    "# tau = 10.0 * ms # time constant for the van rossum distance\n",
    "# vp_dist = victor_purpura_distance([train1, train2], q)[0, 1]\n",
    "# vr_dist = van_rossum_distance([train1, train2], tau)[0, 1]"
   ]
  }
 ],
 "metadata": {
  "kernelspec": {
   "display_name": "Python 3 (ipykernel)",
   "language": "python",
   "name": "python3"
  },
  "language_info": {
   "codemirror_mode": {
    "name": "ipython",
    "version": 3
   },
   "file_extension": ".py",
   "mimetype": "text/x-python",
   "name": "python",
   "nbconvert_exporter": "python",
   "pygments_lexer": "ipython3",
   "version": "3.11.0"
  }
 },
 "nbformat": 4,
 "nbformat_minor": 5
}
